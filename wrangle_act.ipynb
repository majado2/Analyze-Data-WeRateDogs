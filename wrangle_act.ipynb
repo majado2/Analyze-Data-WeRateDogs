{
 "cells": [
  {
   "cell_type": "markdown",
   "metadata": {
    "extensions": {
     "jupyter_dashboards": {
      "version": 1,
      "views": {
       "grid_default": {
        "col": 0,
        "height": 4,
        "hidden": false,
        "row": 0,
        "width": 4
       },
       "report_default": {
        "hidden": false
       }
      }
     }
    }
   },
   "source": [
    "# Project: Wrangling and Analyze Data"
   ]
  },
  {
   "cell_type": "markdown",
   "metadata": {},
   "source": [
    "## Data Gathering\n",
    "In the cell below, gather **all** three pieces of data for this project and load them in the notebook. **Note:** the methods required to gather each data are different.\n"
   ]
  },
  {
   "cell_type": "code",
   "execution_count": 832,
   "metadata": {},
   "outputs": [],
   "source": [
    "import pandas as pd\n",
    "import numpy as np\n",
    "import matplotlib.pyplot as plt\n",
    "%matplotlib inline\n",
    "import requests\n",
    "import tweepy\n",
    "from tweepy import OAuthHandler\n",
    "import json\n",
    "from timeit import default_timer as timer\n",
    "import seaborn as sns\n"
   ]
  },
  {
   "cell_type": "markdown",
   "metadata": {
    "extensions": {
     "jupyter_dashboards": {
      "version": 1,
      "views": {
       "grid_default": {
        "hidden": true
       },
       "report_default": {
        "hidden": true
       }
      }
     }
    }
   },
   "source": [
    "1. Directly download the WeRateDogs Twitter archive data (twitter_archive_enhanced.csv)"
   ]
  },
  {
   "cell_type": "code",
   "execution_count": 833,
   "metadata": {},
   "outputs": [
    {
     "data": {
      "text/html": [
       "<div>\n",
       "<style scoped>\n",
       "    .dataframe tbody tr th:only-of-type {\n",
       "        vertical-align: middle;\n",
       "    }\n",
       "\n",
       "    .dataframe tbody tr th {\n",
       "        vertical-align: top;\n",
       "    }\n",
       "\n",
       "    .dataframe thead th {\n",
       "        text-align: right;\n",
       "    }\n",
       "</style>\n",
       "<table border=\"1\" class=\"dataframe\">\n",
       "  <thead>\n",
       "    <tr style=\"text-align: right;\">\n",
       "      <th></th>\n",
       "      <th>tweet_id</th>\n",
       "      <th>in_reply_to_status_id</th>\n",
       "      <th>in_reply_to_user_id</th>\n",
       "      <th>timestamp</th>\n",
       "      <th>source</th>\n",
       "      <th>text</th>\n",
       "      <th>retweeted_status_id</th>\n",
       "      <th>retweeted_status_user_id</th>\n",
       "      <th>retweeted_status_timestamp</th>\n",
       "      <th>expanded_urls</th>\n",
       "      <th>rating_numerator</th>\n",
       "      <th>rating_denominator</th>\n",
       "      <th>name</th>\n",
       "      <th>doggo</th>\n",
       "      <th>floofer</th>\n",
       "      <th>pupper</th>\n",
       "      <th>puppo</th>\n",
       "    </tr>\n",
       "  </thead>\n",
       "  <tbody>\n",
       "    <tr>\n",
       "      <th>0</th>\n",
       "      <td>892420643555336193</td>\n",
       "      <td>NaN</td>\n",
       "      <td>NaN</td>\n",
       "      <td>2017-08-01 16:23:56 +0000</td>\n",
       "      <td>&lt;a href=\"http://twitter.com/download/iphone\" r...</td>\n",
       "      <td>This is Phineas. He's a mystical boy. Only eve...</td>\n",
       "      <td>NaN</td>\n",
       "      <td>NaN</td>\n",
       "      <td>NaN</td>\n",
       "      <td>https://twitter.com/dog_rates/status/892420643...</td>\n",
       "      <td>13</td>\n",
       "      <td>10</td>\n",
       "      <td>Phineas</td>\n",
       "      <td>None</td>\n",
       "      <td>None</td>\n",
       "      <td>None</td>\n",
       "      <td>None</td>\n",
       "    </tr>\n",
       "    <tr>\n",
       "      <th>1</th>\n",
       "      <td>892177421306343426</td>\n",
       "      <td>NaN</td>\n",
       "      <td>NaN</td>\n",
       "      <td>2017-08-01 00:17:27 +0000</td>\n",
       "      <td>&lt;a href=\"http://twitter.com/download/iphone\" r...</td>\n",
       "      <td>This is Tilly. She's just checking pup on you....</td>\n",
       "      <td>NaN</td>\n",
       "      <td>NaN</td>\n",
       "      <td>NaN</td>\n",
       "      <td>https://twitter.com/dog_rates/status/892177421...</td>\n",
       "      <td>13</td>\n",
       "      <td>10</td>\n",
       "      <td>Tilly</td>\n",
       "      <td>None</td>\n",
       "      <td>None</td>\n",
       "      <td>None</td>\n",
       "      <td>None</td>\n",
       "    </tr>\n",
       "    <tr>\n",
       "      <th>2</th>\n",
       "      <td>891815181378084864</td>\n",
       "      <td>NaN</td>\n",
       "      <td>NaN</td>\n",
       "      <td>2017-07-31 00:18:03 +0000</td>\n",
       "      <td>&lt;a href=\"http://twitter.com/download/iphone\" r...</td>\n",
       "      <td>This is Archie. He is a rare Norwegian Pouncin...</td>\n",
       "      <td>NaN</td>\n",
       "      <td>NaN</td>\n",
       "      <td>NaN</td>\n",
       "      <td>https://twitter.com/dog_rates/status/891815181...</td>\n",
       "      <td>12</td>\n",
       "      <td>10</td>\n",
       "      <td>Archie</td>\n",
       "      <td>None</td>\n",
       "      <td>None</td>\n",
       "      <td>None</td>\n",
       "      <td>None</td>\n",
       "    </tr>\n",
       "    <tr>\n",
       "      <th>3</th>\n",
       "      <td>891689557279858688</td>\n",
       "      <td>NaN</td>\n",
       "      <td>NaN</td>\n",
       "      <td>2017-07-30 15:58:51 +0000</td>\n",
       "      <td>&lt;a href=\"http://twitter.com/download/iphone\" r...</td>\n",
       "      <td>This is Darla. She commenced a snooze mid meal...</td>\n",
       "      <td>NaN</td>\n",
       "      <td>NaN</td>\n",
       "      <td>NaN</td>\n",
       "      <td>https://twitter.com/dog_rates/status/891689557...</td>\n",
       "      <td>13</td>\n",
       "      <td>10</td>\n",
       "      <td>Darla</td>\n",
       "      <td>None</td>\n",
       "      <td>None</td>\n",
       "      <td>None</td>\n",
       "      <td>None</td>\n",
       "    </tr>\n",
       "    <tr>\n",
       "      <th>4</th>\n",
       "      <td>891327558926688256</td>\n",
       "      <td>NaN</td>\n",
       "      <td>NaN</td>\n",
       "      <td>2017-07-29 16:00:24 +0000</td>\n",
       "      <td>&lt;a href=\"http://twitter.com/download/iphone\" r...</td>\n",
       "      <td>This is Franklin. He would like you to stop ca...</td>\n",
       "      <td>NaN</td>\n",
       "      <td>NaN</td>\n",
       "      <td>NaN</td>\n",
       "      <td>https://twitter.com/dog_rates/status/891327558...</td>\n",
       "      <td>12</td>\n",
       "      <td>10</td>\n",
       "      <td>Franklin</td>\n",
       "      <td>None</td>\n",
       "      <td>None</td>\n",
       "      <td>None</td>\n",
       "      <td>None</td>\n",
       "    </tr>\n",
       "    <tr>\n",
       "      <th>5</th>\n",
       "      <td>891087950875897856</td>\n",
       "      <td>NaN</td>\n",
       "      <td>NaN</td>\n",
       "      <td>2017-07-29 00:08:17 +0000</td>\n",
       "      <td>&lt;a href=\"http://twitter.com/download/iphone\" r...</td>\n",
       "      <td>Here we have a majestic great white breaching ...</td>\n",
       "      <td>NaN</td>\n",
       "      <td>NaN</td>\n",
       "      <td>NaN</td>\n",
       "      <td>https://twitter.com/dog_rates/status/891087950...</td>\n",
       "      <td>13</td>\n",
       "      <td>10</td>\n",
       "      <td>None</td>\n",
       "      <td>None</td>\n",
       "      <td>None</td>\n",
       "      <td>None</td>\n",
       "      <td>None</td>\n",
       "    </tr>\n",
       "    <tr>\n",
       "      <th>6</th>\n",
       "      <td>890971913173991426</td>\n",
       "      <td>NaN</td>\n",
       "      <td>NaN</td>\n",
       "      <td>2017-07-28 16:27:12 +0000</td>\n",
       "      <td>&lt;a href=\"http://twitter.com/download/iphone\" r...</td>\n",
       "      <td>Meet Jax. He enjoys ice cream so much he gets ...</td>\n",
       "      <td>NaN</td>\n",
       "      <td>NaN</td>\n",
       "      <td>NaN</td>\n",
       "      <td>https://gofundme.com/ydvmve-surgery-for-jax,ht...</td>\n",
       "      <td>13</td>\n",
       "      <td>10</td>\n",
       "      <td>Jax</td>\n",
       "      <td>None</td>\n",
       "      <td>None</td>\n",
       "      <td>None</td>\n",
       "      <td>None</td>\n",
       "    </tr>\n",
       "    <tr>\n",
       "      <th>7</th>\n",
       "      <td>890729181411237888</td>\n",
       "      <td>NaN</td>\n",
       "      <td>NaN</td>\n",
       "      <td>2017-07-28 00:22:40 +0000</td>\n",
       "      <td>&lt;a href=\"http://twitter.com/download/iphone\" r...</td>\n",
       "      <td>When you watch your owner call another dog a g...</td>\n",
       "      <td>NaN</td>\n",
       "      <td>NaN</td>\n",
       "      <td>NaN</td>\n",
       "      <td>https://twitter.com/dog_rates/status/890729181...</td>\n",
       "      <td>13</td>\n",
       "      <td>10</td>\n",
       "      <td>None</td>\n",
       "      <td>None</td>\n",
       "      <td>None</td>\n",
       "      <td>None</td>\n",
       "      <td>None</td>\n",
       "    </tr>\n",
       "    <tr>\n",
       "      <th>8</th>\n",
       "      <td>890609185150312448</td>\n",
       "      <td>NaN</td>\n",
       "      <td>NaN</td>\n",
       "      <td>2017-07-27 16:25:51 +0000</td>\n",
       "      <td>&lt;a href=\"http://twitter.com/download/iphone\" r...</td>\n",
       "      <td>This is Zoey. She doesn't want to be one of th...</td>\n",
       "      <td>NaN</td>\n",
       "      <td>NaN</td>\n",
       "      <td>NaN</td>\n",
       "      <td>https://twitter.com/dog_rates/status/890609185...</td>\n",
       "      <td>13</td>\n",
       "      <td>10</td>\n",
       "      <td>Zoey</td>\n",
       "      <td>None</td>\n",
       "      <td>None</td>\n",
       "      <td>None</td>\n",
       "      <td>None</td>\n",
       "    </tr>\n",
       "    <tr>\n",
       "      <th>9</th>\n",
       "      <td>890240255349198849</td>\n",
       "      <td>NaN</td>\n",
       "      <td>NaN</td>\n",
       "      <td>2017-07-26 15:59:51 +0000</td>\n",
       "      <td>&lt;a href=\"http://twitter.com/download/iphone\" r...</td>\n",
       "      <td>This is Cassie. She is a college pup. Studying...</td>\n",
       "      <td>NaN</td>\n",
       "      <td>NaN</td>\n",
       "      <td>NaN</td>\n",
       "      <td>https://twitter.com/dog_rates/status/890240255...</td>\n",
       "      <td>14</td>\n",
       "      <td>10</td>\n",
       "      <td>Cassie</td>\n",
       "      <td>doggo</td>\n",
       "      <td>None</td>\n",
       "      <td>None</td>\n",
       "      <td>None</td>\n",
       "    </tr>\n",
       "  </tbody>\n",
       "</table>\n",
       "</div>"
      ],
      "text/plain": [
       "             tweet_id  in_reply_to_status_id  in_reply_to_user_id  \\\n",
       "0  892420643555336193                    NaN                  NaN   \n",
       "1  892177421306343426                    NaN                  NaN   \n",
       "2  891815181378084864                    NaN                  NaN   \n",
       "3  891689557279858688                    NaN                  NaN   \n",
       "4  891327558926688256                    NaN                  NaN   \n",
       "5  891087950875897856                    NaN                  NaN   \n",
       "6  890971913173991426                    NaN                  NaN   \n",
       "7  890729181411237888                    NaN                  NaN   \n",
       "8  890609185150312448                    NaN                  NaN   \n",
       "9  890240255349198849                    NaN                  NaN   \n",
       "\n",
       "                   timestamp  \\\n",
       "0  2017-08-01 16:23:56 +0000   \n",
       "1  2017-08-01 00:17:27 +0000   \n",
       "2  2017-07-31 00:18:03 +0000   \n",
       "3  2017-07-30 15:58:51 +0000   \n",
       "4  2017-07-29 16:00:24 +0000   \n",
       "5  2017-07-29 00:08:17 +0000   \n",
       "6  2017-07-28 16:27:12 +0000   \n",
       "7  2017-07-28 00:22:40 +0000   \n",
       "8  2017-07-27 16:25:51 +0000   \n",
       "9  2017-07-26 15:59:51 +0000   \n",
       "\n",
       "                                              source  \\\n",
       "0  <a href=\"http://twitter.com/download/iphone\" r...   \n",
       "1  <a href=\"http://twitter.com/download/iphone\" r...   \n",
       "2  <a href=\"http://twitter.com/download/iphone\" r...   \n",
       "3  <a href=\"http://twitter.com/download/iphone\" r...   \n",
       "4  <a href=\"http://twitter.com/download/iphone\" r...   \n",
       "5  <a href=\"http://twitter.com/download/iphone\" r...   \n",
       "6  <a href=\"http://twitter.com/download/iphone\" r...   \n",
       "7  <a href=\"http://twitter.com/download/iphone\" r...   \n",
       "8  <a href=\"http://twitter.com/download/iphone\" r...   \n",
       "9  <a href=\"http://twitter.com/download/iphone\" r...   \n",
       "\n",
       "                                                text  retweeted_status_id  \\\n",
       "0  This is Phineas. He's a mystical boy. Only eve...                  NaN   \n",
       "1  This is Tilly. She's just checking pup on you....                  NaN   \n",
       "2  This is Archie. He is a rare Norwegian Pouncin...                  NaN   \n",
       "3  This is Darla. She commenced a snooze mid meal...                  NaN   \n",
       "4  This is Franklin. He would like you to stop ca...                  NaN   \n",
       "5  Here we have a majestic great white breaching ...                  NaN   \n",
       "6  Meet Jax. He enjoys ice cream so much he gets ...                  NaN   \n",
       "7  When you watch your owner call another dog a g...                  NaN   \n",
       "8  This is Zoey. She doesn't want to be one of th...                  NaN   \n",
       "9  This is Cassie. She is a college pup. Studying...                  NaN   \n",
       "\n",
       "   retweeted_status_user_id retweeted_status_timestamp  \\\n",
       "0                       NaN                        NaN   \n",
       "1                       NaN                        NaN   \n",
       "2                       NaN                        NaN   \n",
       "3                       NaN                        NaN   \n",
       "4                       NaN                        NaN   \n",
       "5                       NaN                        NaN   \n",
       "6                       NaN                        NaN   \n",
       "7                       NaN                        NaN   \n",
       "8                       NaN                        NaN   \n",
       "9                       NaN                        NaN   \n",
       "\n",
       "                                       expanded_urls  rating_numerator  \\\n",
       "0  https://twitter.com/dog_rates/status/892420643...                13   \n",
       "1  https://twitter.com/dog_rates/status/892177421...                13   \n",
       "2  https://twitter.com/dog_rates/status/891815181...                12   \n",
       "3  https://twitter.com/dog_rates/status/891689557...                13   \n",
       "4  https://twitter.com/dog_rates/status/891327558...                12   \n",
       "5  https://twitter.com/dog_rates/status/891087950...                13   \n",
       "6  https://gofundme.com/ydvmve-surgery-for-jax,ht...                13   \n",
       "7  https://twitter.com/dog_rates/status/890729181...                13   \n",
       "8  https://twitter.com/dog_rates/status/890609185...                13   \n",
       "9  https://twitter.com/dog_rates/status/890240255...                14   \n",
       "\n",
       "   rating_denominator      name  doggo floofer pupper puppo  \n",
       "0                  10   Phineas   None    None   None  None  \n",
       "1                  10     Tilly   None    None   None  None  \n",
       "2                  10    Archie   None    None   None  None  \n",
       "3                  10     Darla   None    None   None  None  \n",
       "4                  10  Franklin   None    None   None  None  \n",
       "5                  10      None   None    None   None  None  \n",
       "6                  10       Jax   None    None   None  None  \n",
       "7                  10      None   None    None   None  None  \n",
       "8                  10      Zoey   None    None   None  None  \n",
       "9                  10    Cassie  doggo    None   None  None  "
      ]
     },
     "execution_count": 833,
     "metadata": {},
     "output_type": "execute_result"
    }
   ],
   "source": [
    "df_archive=pd.read_csv('twitter-archive-enhanced.csv')\n",
    "df_archive.head(10)"
   ]
  },
  {
   "cell_type": "markdown",
   "metadata": {},
   "source": [
    "2. Use the Requests library to download the tweet image prediction (image_predictions.tsv)"
   ]
  },
  {
   "cell_type": "code",
   "execution_count": 834,
   "metadata": {},
   "outputs": [
    {
     "data": {
      "text/plain": [
       "2075"
      ]
     },
     "execution_count": 834,
     "metadata": {},
     "output_type": "execute_result"
    }
   ],
   "source": [
    "#url link \n",
    "url='https://d17h27t6h515a5.cloudfront.net/topher/2017/August/599fd2ad_image-predictions/image-predictions.tsv'\n",
    "response=requests.get(url)\n",
    "\n",
    "\n",
    "file_name = \"image-predictions.tsv\"\n",
    "with open(file_name, 'wb') as file:\n",
    "     file.write(response.content)\n",
    "\n",
    "#test file \n",
    "df_image=pd.read_csv('image-predictions.tsv',sep='\\t')\n",
    "df_image.head(10)\n",
    "len(df_image)"
   ]
  },
  {
   "cell_type": "markdown",
   "metadata": {},
   "source": [
    "3. Use the Tweepy library to query additional data via the Twitter API (tweet_json.txt)"
   ]
  },
  {
   "cell_type": "code",
   "execution_count": 835,
   "metadata": {},
   "outputs": [],
   "source": [
    "#pip install tweepy\n",
    "\n",
    "consumer_key = ''\n",
    "consumer_secret = ''\n",
    "access_token = ''\n",
    "access_secret = ''\n",
    "\n",
    "auth = tweepy.OAuthHandler(consumer_key, consumer_secret)\n",
    "auth.set_access_token(access_token, access_secret)\n",
    "\n",
    "api = tweepy.API(auth, wait_on_rate_limit=True)"
   ]
  },
  {
   "cell_type": "code",
   "execution_count": 836,
   "metadata": {},
   "outputs": [],
   "source": [
    "# Query Twitter's API for JSON data for each tweet ID in the Twitter archive\n",
    "#count = 0\n",
    "#fails_dict = {}\n",
    "#start = timer()\n",
    "# Save each tweet's returned JSON as a new line in a .txt file\n",
    "#with open('tweet_json.txt', 'w') as outfile:\n",
    "    # This loop will likely take 20-30 minutes to run because of Twitter's rate limit\n",
    "#    for tweet_id in tweet_ids:\n",
    "#        count += 1\n",
    "#        print(str(count) + \": \" + str(tweet_id))\n",
    "#        try:\n",
    "#            tweet = api.get_status(tweet_id, tweet_mode='extended',wait_on_rate_limit=True, wait_on_rate_limit_notify=True)\n",
    "#            print(\"Success\")\n",
    "#            json.dump(tweet._json, outfile)\n",
    "#            outfile.write('\\n')\n",
    "#        except tweepy.TweepError as e:\n",
    "#            print(\"Fail\")\n",
    "#            fails_dict[tweet_id] = e\n",
    "#            pass\n",
    "#end = timer()\n",
    "#print(end - start)\n",
    "#print(fails_dict)\n",
    "#"
   ]
  },
  {
   "cell_type": "code",
   "execution_count": null,
   "metadata": {},
   "outputs": [],
   "source": []
  },
  {
   "cell_type": "code",
   "execution_count": 837,
   "metadata": {},
   "outputs": [
    {
     "data": {
      "text/html": [
       "<div>\n",
       "<style scoped>\n",
       "    .dataframe tbody tr th:only-of-type {\n",
       "        vertical-align: middle;\n",
       "    }\n",
       "\n",
       "    .dataframe tbody tr th {\n",
       "        vertical-align: top;\n",
       "    }\n",
       "\n",
       "    .dataframe thead th {\n",
       "        text-align: right;\n",
       "    }\n",
       "</style>\n",
       "<table border=\"1\" class=\"dataframe\">\n",
       "  <thead>\n",
       "    <tr style=\"text-align: right;\">\n",
       "      <th></th>\n",
       "      <th>tweet_id</th>\n",
       "      <th>retweet_count</th>\n",
       "      <th>favorite_count</th>\n",
       "    </tr>\n",
       "  </thead>\n",
       "  <tbody>\n",
       "    <tr>\n",
       "      <th>0</th>\n",
       "      <td>892420643555336193</td>\n",
       "      <td>8853</td>\n",
       "      <td>39467</td>\n",
       "    </tr>\n",
       "    <tr>\n",
       "      <th>1</th>\n",
       "      <td>892177421306343426</td>\n",
       "      <td>6514</td>\n",
       "      <td>33819</td>\n",
       "    </tr>\n",
       "    <tr>\n",
       "      <th>2</th>\n",
       "      <td>891815181378084864</td>\n",
       "      <td>4328</td>\n",
       "      <td>25461</td>\n",
       "    </tr>\n",
       "    <tr>\n",
       "      <th>3</th>\n",
       "      <td>891689557279858688</td>\n",
       "      <td>8964</td>\n",
       "      <td>42908</td>\n",
       "    </tr>\n",
       "    <tr>\n",
       "      <th>4</th>\n",
       "      <td>891327558926688256</td>\n",
       "      <td>9774</td>\n",
       "      <td>41048</td>\n",
       "    </tr>\n",
       "  </tbody>\n",
       "</table>\n",
       "</div>"
      ],
      "text/plain": [
       "             tweet_id  retweet_count  favorite_count\n",
       "0  892420643555336193           8853           39467\n",
       "1  892177421306343426           6514           33819\n",
       "2  891815181378084864           4328           25461\n",
       "3  891689557279858688           8964           42908\n",
       "4  891327558926688256           9774           41048"
      ]
     },
     "execution_count": 837,
     "metadata": {},
     "output_type": "execute_result"
    }
   ],
   "source": [
    "df_count = []\n",
    "\n",
    "with open('tweet-json.txt', 'r') as file:\n",
    "    for row in file:\n",
    "        tweet = json.loads(row)\n",
    "        tweet_id = tweet['id']\n",
    "        retweet_count = tweet['retweet_count']\n",
    "        fav_count = tweet['favorite_count']\n",
    "        df_count.append({\n",
    "            'tweet_id':tweet_id,\n",
    "            'retweet_count': retweet_count,\n",
    "            'favorite_count': fav_count,})\n",
    "        \n",
    "df_count= pd.DataFrame(df_count)\n",
    "df_count.head()"
   ]
  },
  {
   "cell_type": "markdown",
   "metadata": {
    "extensions": {
     "jupyter_dashboards": {
      "version": 1,
      "views": {
       "grid_default": {
        "col": 4,
        "height": 4,
        "hidden": false,
        "row": 28,
        "width": 4
       },
       "report_default": {
        "hidden": false
       }
      }
     }
    }
   },
   "source": [
    "## Assessing Data\n",
    "In this section, detect and document at least **eight (8) quality issues and two (2) tidiness issue**. You must use **both** visual assessment\n",
    "programmatic assessement to assess the data.\n",
    "\n",
    "**Note:** pay attention to the following key points when you access the data.\n",
    "\n",
    "* You only want original ratings (no retweets) that have images. Though there are 5000+ tweets in the dataset, not all are dog ratings and some are retweets.\n",
    "* Assessing and cleaning the entire dataset completely would require a lot of time, and is not necessary to practice and demonstrate your skills in data wrangling. Therefore, the requirements of this project are only to assess and clean at least 8 quality issues and at least 2 tidiness issues in this dataset.\n",
    "* The fact that the rating numerators are greater than the denominators does not need to be cleaned. This [unique rating system](http://knowyourmeme.com/memes/theyre-good-dogs-brent) is a big part of the popularity of WeRateDogs.\n",
    "* You do not need to gather the tweets beyond August 1st, 2017. You can, but note that you won't be able to gather the image predictions for these tweets since you don't have access to the algorithm used.\n",
    "\n"
   ]
  },
  {
   "cell_type": "code",
   "execution_count": 838,
   "metadata": {},
   "outputs": [
    {
     "name": "stdout",
     "output_type": "stream",
     "text": [
      "<class 'pandas.core.frame.DataFrame'>\n",
      "RangeIndex: 2356 entries, 0 to 2355\n",
      "Data columns (total 17 columns):\n",
      " #   Column                      Non-Null Count  Dtype  \n",
      "---  ------                      --------------  -----  \n",
      " 0   tweet_id                    2356 non-null   int64  \n",
      " 1   in_reply_to_status_id       78 non-null     float64\n",
      " 2   in_reply_to_user_id         78 non-null     float64\n",
      " 3   timestamp                   2356 non-null   object \n",
      " 4   source                      2356 non-null   object \n",
      " 5   text                        2356 non-null   object \n",
      " 6   retweeted_status_id         181 non-null    float64\n",
      " 7   retweeted_status_user_id    181 non-null    float64\n",
      " 8   retweeted_status_timestamp  181 non-null    object \n",
      " 9   expanded_urls               2297 non-null   object \n",
      " 10  rating_numerator            2356 non-null   int64  \n",
      " 11  rating_denominator          2356 non-null   int64  \n",
      " 12  name                        2356 non-null   object \n",
      " 13  doggo                       2356 non-null   object \n",
      " 14  floofer                     2356 non-null   object \n",
      " 15  pupper                      2356 non-null   object \n",
      " 16  puppo                       2356 non-null   object \n",
      "dtypes: float64(4), int64(3), object(10)\n",
      "memory usage: 313.0+ KB\n"
     ]
    }
   ],
   "source": [
    "#Check tweets table data\n",
    "df_archive.info()"
   ]
  },
  {
   "cell_type": "code",
   "execution_count": 839,
   "metadata": {},
   "outputs": [
    {
     "name": "stdout",
     "output_type": "stream",
     "text": [
      "<class 'pandas.core.frame.DataFrame'>\n",
      "Int64Index: 2117 entries, 0 to 2355\n",
      "Data columns (total 17 columns):\n",
      " #   Column                      Non-Null Count  Dtype  \n",
      "---  ------                      --------------  -----  \n",
      " 0   tweet_id                    2117 non-null   int64  \n",
      " 1   in_reply_to_status_id       23 non-null     float64\n",
      " 2   in_reply_to_user_id         23 non-null     float64\n",
      " 3   timestamp                   2117 non-null   object \n",
      " 4   source                      2117 non-null   object \n",
      " 5   text                        2117 non-null   object \n",
      " 6   retweeted_status_id         0 non-null      float64\n",
      " 7   retweeted_status_user_id    0 non-null      float64\n",
      " 8   retweeted_status_timestamp  0 non-null      object \n",
      " 9   expanded_urls               2117 non-null   object \n",
      " 10  rating_numerator            2117 non-null   int64  \n",
      " 11  rating_denominator          2117 non-null   int64  \n",
      " 12  name                        2117 non-null   object \n",
      " 13  doggo                       2117 non-null   object \n",
      " 14  floofer                     2117 non-null   object \n",
      " 15  pupper                      2117 non-null   object \n",
      " 16  puppo                       2117 non-null   object \n",
      "dtypes: float64(4), int64(3), object(10)\n",
      "memory usage: 297.7+ KB\n"
     ]
    }
   ],
   "source": [
    "#scope of work\n",
    "#You only want original ratings (no retweets) that have images\n",
    "df_archive_no_retweets = df_archive[(df_archive['retweeted_status_id'].isnull() & df_archive['expanded_urls'].notnull() )]\n",
    "df_archive_no_retweets.info()"
   ]
  },
  {
   "cell_type": "code",
   "execution_count": 840,
   "metadata": {},
   "outputs": [
    {
     "data": {
      "text/html": [
       "<div>\n",
       "<style scoped>\n",
       "    .dataframe tbody tr th:only-of-type {\n",
       "        vertical-align: middle;\n",
       "    }\n",
       "\n",
       "    .dataframe tbody tr th {\n",
       "        vertical-align: top;\n",
       "    }\n",
       "\n",
       "    .dataframe thead th {\n",
       "        text-align: right;\n",
       "    }\n",
       "</style>\n",
       "<table border=\"1\" class=\"dataframe\">\n",
       "  <thead>\n",
       "    <tr style=\"text-align: right;\">\n",
       "      <th></th>\n",
       "      <th>tweet_id</th>\n",
       "      <th>in_reply_to_status_id</th>\n",
       "      <th>in_reply_to_user_id</th>\n",
       "      <th>timestamp</th>\n",
       "      <th>source</th>\n",
       "      <th>text</th>\n",
       "      <th>retweeted_status_id</th>\n",
       "      <th>retweeted_status_user_id</th>\n",
       "      <th>retweeted_status_timestamp</th>\n",
       "      <th>expanded_urls</th>\n",
       "      <th>rating_numerator</th>\n",
       "      <th>rating_denominator</th>\n",
       "      <th>name</th>\n",
       "      <th>doggo</th>\n",
       "      <th>floofer</th>\n",
       "      <th>pupper</th>\n",
       "      <th>puppo</th>\n",
       "    </tr>\n",
       "  </thead>\n",
       "  <tbody>\n",
       "    <tr>\n",
       "      <th>729</th>\n",
       "      <td>781955203444699136</td>\n",
       "      <td>NaN</td>\n",
       "      <td>NaN</td>\n",
       "      <td>2016-09-30 20:33:43 +0000</td>\n",
       "      <td>&lt;a href=\"http://twitter.com/download/iphone\" r...</td>\n",
       "      <td>This is Chipson. He weighed in at .3 ounces an...</td>\n",
       "      <td>NaN</td>\n",
       "      <td>NaN</td>\n",
       "      <td>NaN</td>\n",
       "      <td>https://twitter.com/dog_rates/status/781955203...</td>\n",
       "      <td>11</td>\n",
       "      <td>10</td>\n",
       "      <td>Chipson</td>\n",
       "      <td>None</td>\n",
       "      <td>None</td>\n",
       "      <td>None</td>\n",
       "      <td>None</td>\n",
       "    </tr>\n",
       "    <tr>\n",
       "      <th>1327</th>\n",
       "      <td>705975130514706432</td>\n",
       "      <td>NaN</td>\n",
       "      <td>NaN</td>\n",
       "      <td>2016-03-05 04:36:02 +0000</td>\n",
       "      <td>&lt;a href=\"http://twitter.com/download/iphone\" r...</td>\n",
       "      <td>This is Adele. Her tongue flies out of her mou...</td>\n",
       "      <td>NaN</td>\n",
       "      <td>NaN</td>\n",
       "      <td>NaN</td>\n",
       "      <td>https://twitter.com/dog_rates/status/705975130...</td>\n",
       "      <td>10</td>\n",
       "      <td>10</td>\n",
       "      <td>Adele</td>\n",
       "      <td>None</td>\n",
       "      <td>None</td>\n",
       "      <td>pupper</td>\n",
       "      <td>None</td>\n",
       "    </tr>\n",
       "    <tr>\n",
       "      <th>631</th>\n",
       "      <td>794205286408003585</td>\n",
       "      <td>NaN</td>\n",
       "      <td>NaN</td>\n",
       "      <td>2016-11-03 15:51:10 +0000</td>\n",
       "      <td>&lt;a href=\"http://twitter.com/download/iphone\" r...</td>\n",
       "      <td>This is Laika. She was a space pupper. The fir...</td>\n",
       "      <td>NaN</td>\n",
       "      <td>NaN</td>\n",
       "      <td>NaN</td>\n",
       "      <td>https://twitter.com/dog_rates/status/794205286...</td>\n",
       "      <td>14</td>\n",
       "      <td>10</td>\n",
       "      <td>Laika</td>\n",
       "      <td>None</td>\n",
       "      <td>None</td>\n",
       "      <td>pupper</td>\n",
       "      <td>None</td>\n",
       "    </tr>\n",
       "    <tr>\n",
       "      <th>2250</th>\n",
       "      <td>667832474953625600</td>\n",
       "      <td>NaN</td>\n",
       "      <td>NaN</td>\n",
       "      <td>2015-11-20 22:30:44 +0000</td>\n",
       "      <td>&lt;a href=\"http://twitter.com/download/iphone\" r...</td>\n",
       "      <td>THE EYES 12/10\\n\\nI'm sorry. These are suppose...</td>\n",
       "      <td>NaN</td>\n",
       "      <td>NaN</td>\n",
       "      <td>NaN</td>\n",
       "      <td>https://twitter.com/dog_rates/status/667832474...</td>\n",
       "      <td>12</td>\n",
       "      <td>10</td>\n",
       "      <td>None</td>\n",
       "      <td>None</td>\n",
       "      <td>None</td>\n",
       "      <td>None</td>\n",
       "      <td>None</td>\n",
       "    </tr>\n",
       "    <tr>\n",
       "      <th>1290</th>\n",
       "      <td>708130923141795840</td>\n",
       "      <td>NaN</td>\n",
       "      <td>NaN</td>\n",
       "      <td>2016-03-11 03:22:23 +0000</td>\n",
       "      <td>&lt;a href=\"http://twitter.com/download/iphone\" r...</td>\n",
       "      <td>Please stop sending in non canines like this G...</td>\n",
       "      <td>NaN</td>\n",
       "      <td>NaN</td>\n",
       "      <td>NaN</td>\n",
       "      <td>https://twitter.com/dog_rates/status/708130923...</td>\n",
       "      <td>11</td>\n",
       "      <td>10</td>\n",
       "      <td>None</td>\n",
       "      <td>None</td>\n",
       "      <td>None</td>\n",
       "      <td>None</td>\n",
       "      <td>None</td>\n",
       "    </tr>\n",
       "  </tbody>\n",
       "</table>\n",
       "</div>"
      ],
      "text/plain": [
       "                tweet_id  in_reply_to_status_id  in_reply_to_user_id  \\\n",
       "729   781955203444699136                    NaN                  NaN   \n",
       "1327  705975130514706432                    NaN                  NaN   \n",
       "631   794205286408003585                    NaN                  NaN   \n",
       "2250  667832474953625600                    NaN                  NaN   \n",
       "1290  708130923141795840                    NaN                  NaN   \n",
       "\n",
       "                      timestamp  \\\n",
       "729   2016-09-30 20:33:43 +0000   \n",
       "1327  2016-03-05 04:36:02 +0000   \n",
       "631   2016-11-03 15:51:10 +0000   \n",
       "2250  2015-11-20 22:30:44 +0000   \n",
       "1290  2016-03-11 03:22:23 +0000   \n",
       "\n",
       "                                                 source  \\\n",
       "729   <a href=\"http://twitter.com/download/iphone\" r...   \n",
       "1327  <a href=\"http://twitter.com/download/iphone\" r...   \n",
       "631   <a href=\"http://twitter.com/download/iphone\" r...   \n",
       "2250  <a href=\"http://twitter.com/download/iphone\" r...   \n",
       "1290  <a href=\"http://twitter.com/download/iphone\" r...   \n",
       "\n",
       "                                                   text  retweeted_status_id  \\\n",
       "729   This is Chipson. He weighed in at .3 ounces an...                  NaN   \n",
       "1327  This is Adele. Her tongue flies out of her mou...                  NaN   \n",
       "631   This is Laika. She was a space pupper. The fir...                  NaN   \n",
       "2250  THE EYES 12/10\\n\\nI'm sorry. These are suppose...                  NaN   \n",
       "1290  Please stop sending in non canines like this G...                  NaN   \n",
       "\n",
       "      retweeted_status_user_id retweeted_status_timestamp  \\\n",
       "729                        NaN                        NaN   \n",
       "1327                       NaN                        NaN   \n",
       "631                        NaN                        NaN   \n",
       "2250                       NaN                        NaN   \n",
       "1290                       NaN                        NaN   \n",
       "\n",
       "                                          expanded_urls  rating_numerator  \\\n",
       "729   https://twitter.com/dog_rates/status/781955203...                11   \n",
       "1327  https://twitter.com/dog_rates/status/705975130...                10   \n",
       "631   https://twitter.com/dog_rates/status/794205286...                14   \n",
       "2250  https://twitter.com/dog_rates/status/667832474...                12   \n",
       "1290  https://twitter.com/dog_rates/status/708130923...                11   \n",
       "\n",
       "      rating_denominator     name doggo floofer  pupper puppo  \n",
       "729                   10  Chipson  None    None    None  None  \n",
       "1327                  10    Adele  None    None  pupper  None  \n",
       "631                   10    Laika  None    None  pupper  None  \n",
       "2250                  10     None  None    None    None  None  \n",
       "1290                  10     None  None    None    None  None  "
      ]
     },
     "execution_count": 840,
     "metadata": {},
     "output_type": "execute_result"
    }
   ],
   "source": [
    "#A visual assessment of the table\n",
    "df_archive_no_retweets.sample(5)"
   ]
  },
  {
   "cell_type": "code",
   "execution_count": 841,
   "metadata": {},
   "outputs": [
    {
     "data": {
      "text/plain": [
       "0       False\n",
       "1       False\n",
       "2       False\n",
       "3       False\n",
       "4       False\n",
       "        ...  \n",
       "2351    False\n",
       "2352    False\n",
       "2353    False\n",
       "2354    False\n",
       "2355    False\n",
       "Name: tweet_id, Length: 2117, dtype: bool"
      ]
     },
     "execution_count": 841,
     "metadata": {},
     "output_type": "execute_result"
    }
   ],
   "source": [
    "#Check duplicated for the Tweet id column\n",
    "df_archive_no_retweets.tweet_id.duplicated()"
   ]
  },
  {
   "cell_type": "code",
   "execution_count": 842,
   "metadata": {},
   "outputs": [
    {
     "data": {
      "text/plain": [
       "None          622\n",
       "a              55\n",
       "Lucy           11\n",
       "Charlie        11\n",
       "Cooper         10\n",
       "             ... \n",
       "Wishes          1\n",
       "Rose            1\n",
       "Theo            1\n",
       "Fido            1\n",
       "Christoper      1\n",
       "Name: name, Length: 956, dtype: int64"
      ]
     },
     "execution_count": 842,
     "metadata": {},
     "output_type": "execute_result"
    }
   ],
   "source": [
    "#Have a look at Unique Values. And the extent of repetition and if there are illogical values\n",
    "df_archive_no_retweets.name.value_counts()"
   ]
  },
  {
   "cell_type": "code",
   "execution_count": 843,
   "metadata": {},
   "outputs": [
    {
     "name": "stdout",
     "output_type": "stream",
     "text": [
      "<class 'pandas.core.frame.DataFrame'>\n",
      "RangeIndex: 2075 entries, 0 to 2074\n",
      "Data columns (total 12 columns):\n",
      " #   Column    Non-Null Count  Dtype  \n",
      "---  ------    --------------  -----  \n",
      " 0   tweet_id  2075 non-null   int64  \n",
      " 1   jpg_url   2075 non-null   object \n",
      " 2   img_num   2075 non-null   int64  \n",
      " 3   p1        2075 non-null   object \n",
      " 4   p1_conf   2075 non-null   float64\n",
      " 5   p1_dog    2075 non-null   bool   \n",
      " 6   p2        2075 non-null   object \n",
      " 7   p2_conf   2075 non-null   float64\n",
      " 8   p2_dog    2075 non-null   bool   \n",
      " 9   p3        2075 non-null   object \n",
      " 10  p3_conf   2075 non-null   float64\n",
      " 11  p3_dog    2075 non-null   bool   \n",
      "dtypes: bool(3), float64(3), int64(2), object(4)\n",
      "memory usage: 152.1+ KB\n"
     ]
    }
   ],
   "source": [
    "#Have a look at the image table structure\n",
    "df_image.info()"
   ]
  },
  {
   "cell_type": "code",
   "execution_count": 844,
   "metadata": {},
   "outputs": [
    {
     "data": {
      "text/html": [
       "<div>\n",
       "<style scoped>\n",
       "    .dataframe tbody tr th:only-of-type {\n",
       "        vertical-align: middle;\n",
       "    }\n",
       "\n",
       "    .dataframe tbody tr th {\n",
       "        vertical-align: top;\n",
       "    }\n",
       "\n",
       "    .dataframe thead th {\n",
       "        text-align: right;\n",
       "    }\n",
       "</style>\n",
       "<table border=\"1\" class=\"dataframe\">\n",
       "  <thead>\n",
       "    <tr style=\"text-align: right;\">\n",
       "      <th></th>\n",
       "      <th>tweet_id</th>\n",
       "      <th>jpg_url</th>\n",
       "      <th>img_num</th>\n",
       "      <th>p1</th>\n",
       "      <th>p1_conf</th>\n",
       "      <th>p1_dog</th>\n",
       "      <th>p2</th>\n",
       "      <th>p2_conf</th>\n",
       "      <th>p2_dog</th>\n",
       "      <th>p3</th>\n",
       "      <th>p3_conf</th>\n",
       "      <th>p3_dog</th>\n",
       "    </tr>\n",
       "  </thead>\n",
       "  <tbody>\n",
       "    <tr>\n",
       "      <th>897</th>\n",
       "      <td>699775878809702401</td>\n",
       "      <td>https://pbs.twimg.com/media/CbYac83W4AAUH1O.jpg</td>\n",
       "      <td>1</td>\n",
       "      <td>Dandie_Dinmont</td>\n",
       "      <td>0.271683</td>\n",
       "      <td>True</td>\n",
       "      <td>Old_English_sheepdog</td>\n",
       "      <td>0.164931</td>\n",
       "      <td>True</td>\n",
       "      <td>otterhound</td>\n",
       "      <td>0.105918</td>\n",
       "      <td>True</td>\n",
       "    </tr>\n",
       "    <tr>\n",
       "      <th>131</th>\n",
       "      <td>668297328638447616</td>\n",
       "      <td>https://pbs.twimg.com/media/CUZE4IWW4AAZmDf.jpg</td>\n",
       "      <td>1</td>\n",
       "      <td>king_penguin</td>\n",
       "      <td>0.606747</td>\n",
       "      <td>False</td>\n",
       "      <td>ice_bear</td>\n",
       "      <td>0.264221</td>\n",
       "      <td>False</td>\n",
       "      <td>Eskimo_dog</td>\n",
       "      <td>0.032784</td>\n",
       "      <td>True</td>\n",
       "    </tr>\n",
       "    <tr>\n",
       "      <th>1931</th>\n",
       "      <td>859074603037188101</td>\n",
       "      <td>https://pbs.twimg.com/media/C-wLyufW0AA546I.jpg</td>\n",
       "      <td>1</td>\n",
       "      <td>revolver</td>\n",
       "      <td>0.190292</td>\n",
       "      <td>False</td>\n",
       "      <td>projectile</td>\n",
       "      <td>0.149064</td>\n",
       "      <td>False</td>\n",
       "      <td>fountain</td>\n",
       "      <td>0.066047</td>\n",
       "      <td>False</td>\n",
       "    </tr>\n",
       "    <tr>\n",
       "      <th>1034</th>\n",
       "      <td>711732680602345472</td>\n",
       "      <td>https://pbs.twimg.com/media/CeCVGEbUYAASeY4.jpg</td>\n",
       "      <td>3</td>\n",
       "      <td>dingo</td>\n",
       "      <td>0.366875</td>\n",
       "      <td>False</td>\n",
       "      <td>Ibizan_hound</td>\n",
       "      <td>0.334929</td>\n",
       "      <td>True</td>\n",
       "      <td>Eskimo_dog</td>\n",
       "      <td>0.073876</td>\n",
       "      <td>True</td>\n",
       "    </tr>\n",
       "    <tr>\n",
       "      <th>768</th>\n",
       "      <td>689280876073582592</td>\n",
       "      <td>https://pbs.twimg.com/media/CZDRTAPUoAEaqxF.jpg</td>\n",
       "      <td>3</td>\n",
       "      <td>Chihuahua</td>\n",
       "      <td>0.637546</td>\n",
       "      <td>True</td>\n",
       "      <td>American_Staffordshire_terrier</td>\n",
       "      <td>0.150694</td>\n",
       "      <td>True</td>\n",
       "      <td>Staffordshire_bullterrier</td>\n",
       "      <td>0.103953</td>\n",
       "      <td>True</td>\n",
       "    </tr>\n",
       "    <tr>\n",
       "      <th>1039</th>\n",
       "      <td>712085617388212225</td>\n",
       "      <td>https://pbs.twimg.com/media/CeHWFksXIAAyypp.jpg</td>\n",
       "      <td>2</td>\n",
       "      <td>Shih-Tzu</td>\n",
       "      <td>0.625129</td>\n",
       "      <td>True</td>\n",
       "      <td>Tibetan_terrier</td>\n",
       "      <td>0.126897</td>\n",
       "      <td>True</td>\n",
       "      <td>Lhasa</td>\n",
       "      <td>0.119663</td>\n",
       "      <td>True</td>\n",
       "    </tr>\n",
       "    <tr>\n",
       "      <th>922</th>\n",
       "      <td>702217446468493312</td>\n",
       "      <td>https://pbs.twimg.com/media/Cb7HCMkWEAAV9zY.jpg</td>\n",
       "      <td>1</td>\n",
       "      <td>golden_retriever</td>\n",
       "      <td>0.242419</td>\n",
       "      <td>True</td>\n",
       "      <td>chow</td>\n",
       "      <td>0.226800</td>\n",
       "      <td>True</td>\n",
       "      <td>cocker_spaniel</td>\n",
       "      <td>0.194086</td>\n",
       "      <td>True</td>\n",
       "    </tr>\n",
       "    <tr>\n",
       "      <th>1333</th>\n",
       "      <td>757729163776290825</td>\n",
       "      <td>https://pbs.twimg.com/media/CWyD2HGUYAQ1Xa7.jpg</td>\n",
       "      <td>2</td>\n",
       "      <td>cash_machine</td>\n",
       "      <td>0.802333</td>\n",
       "      <td>False</td>\n",
       "      <td>schipperke</td>\n",
       "      <td>0.045519</td>\n",
       "      <td>True</td>\n",
       "      <td>German_shepherd</td>\n",
       "      <td>0.023353</td>\n",
       "      <td>True</td>\n",
       "    </tr>\n",
       "    <tr>\n",
       "      <th>438</th>\n",
       "      <td>674422304705744896</td>\n",
       "      <td>https://pbs.twimg.com/media/CVwHgblWcAACWOD.jpg</td>\n",
       "      <td>1</td>\n",
       "      <td>golden_retriever</td>\n",
       "      <td>0.964497</td>\n",
       "      <td>True</td>\n",
       "      <td>Labrador_retriever</td>\n",
       "      <td>0.009006</td>\n",
       "      <td>True</td>\n",
       "      <td>tennis_ball</td>\n",
       "      <td>0.007139</td>\n",
       "      <td>False</td>\n",
       "    </tr>\n",
       "    <tr>\n",
       "      <th>1252</th>\n",
       "      <td>747963614829678593</td>\n",
       "      <td>https://pbs.twimg.com/media/CmFM7ngXEAEitfh.jpg</td>\n",
       "      <td>1</td>\n",
       "      <td>kelpie</td>\n",
       "      <td>0.307672</td>\n",
       "      <td>True</td>\n",
       "      <td>Irish_terrier</td>\n",
       "      <td>0.197486</td>\n",
       "      <td>True</td>\n",
       "      <td>dingo</td>\n",
       "      <td>0.105475</td>\n",
       "      <td>False</td>\n",
       "    </tr>\n",
       "  </tbody>\n",
       "</table>\n",
       "</div>"
      ],
      "text/plain": [
       "                tweet_id                                          jpg_url  \\\n",
       "897   699775878809702401  https://pbs.twimg.com/media/CbYac83W4AAUH1O.jpg   \n",
       "131   668297328638447616  https://pbs.twimg.com/media/CUZE4IWW4AAZmDf.jpg   \n",
       "1931  859074603037188101  https://pbs.twimg.com/media/C-wLyufW0AA546I.jpg   \n",
       "1034  711732680602345472  https://pbs.twimg.com/media/CeCVGEbUYAASeY4.jpg   \n",
       "768   689280876073582592  https://pbs.twimg.com/media/CZDRTAPUoAEaqxF.jpg   \n",
       "1039  712085617388212225  https://pbs.twimg.com/media/CeHWFksXIAAyypp.jpg   \n",
       "922   702217446468493312  https://pbs.twimg.com/media/Cb7HCMkWEAAV9zY.jpg   \n",
       "1333  757729163776290825  https://pbs.twimg.com/media/CWyD2HGUYAQ1Xa7.jpg   \n",
       "438   674422304705744896  https://pbs.twimg.com/media/CVwHgblWcAACWOD.jpg   \n",
       "1252  747963614829678593  https://pbs.twimg.com/media/CmFM7ngXEAEitfh.jpg   \n",
       "\n",
       "      img_num                p1   p1_conf  p1_dog  \\\n",
       "897         1    Dandie_Dinmont  0.271683    True   \n",
       "131         1      king_penguin  0.606747   False   \n",
       "1931        1          revolver  0.190292   False   \n",
       "1034        3             dingo  0.366875   False   \n",
       "768         3         Chihuahua  0.637546    True   \n",
       "1039        2          Shih-Tzu  0.625129    True   \n",
       "922         1  golden_retriever  0.242419    True   \n",
       "1333        2      cash_machine  0.802333   False   \n",
       "438         1  golden_retriever  0.964497    True   \n",
       "1252        1            kelpie  0.307672    True   \n",
       "\n",
       "                                  p2   p2_conf  p2_dog  \\\n",
       "897             Old_English_sheepdog  0.164931    True   \n",
       "131                         ice_bear  0.264221   False   \n",
       "1931                      projectile  0.149064   False   \n",
       "1034                    Ibizan_hound  0.334929    True   \n",
       "768   American_Staffordshire_terrier  0.150694    True   \n",
       "1039                 Tibetan_terrier  0.126897    True   \n",
       "922                             chow  0.226800    True   \n",
       "1333                      schipperke  0.045519    True   \n",
       "438               Labrador_retriever  0.009006    True   \n",
       "1252                   Irish_terrier  0.197486    True   \n",
       "\n",
       "                             p3   p3_conf  p3_dog  \n",
       "897                  otterhound  0.105918    True  \n",
       "131                  Eskimo_dog  0.032784    True  \n",
       "1931                   fountain  0.066047   False  \n",
       "1034                 Eskimo_dog  0.073876    True  \n",
       "768   Staffordshire_bullterrier  0.103953    True  \n",
       "1039                      Lhasa  0.119663    True  \n",
       "922              cocker_spaniel  0.194086    True  \n",
       "1333            German_shepherd  0.023353    True  \n",
       "438                 tennis_ball  0.007139   False  \n",
       "1252                      dingo  0.105475   False  "
      ]
     },
     "execution_count": 844,
     "metadata": {},
     "output_type": "execute_result"
    }
   ],
   "source": [
    "#Visual evaluation of the table of pictures\n",
    "df_image.sample(10)"
   ]
  },
  {
   "cell_type": "code",
   "execution_count": 845,
   "metadata": {},
   "outputs": [
    {
     "data": {
      "text/plain": [
       "0       False\n",
       "1       False\n",
       "2       False\n",
       "3       False\n",
       "4       False\n",
       "        ...  \n",
       "2070    False\n",
       "2071    False\n",
       "2072    False\n",
       "2073    False\n",
       "2074    False\n",
       "Name: tweet_id, Length: 2075, dtype: bool"
      ]
     },
     "execution_count": 845,
     "metadata": {},
     "output_type": "execute_result"
    }
   ],
   "source": [
    "#chack that there are no duplicates \n",
    "df_image.tweet_id.duplicated()"
   ]
  },
  {
   "cell_type": "code",
   "execution_count": 846,
   "metadata": {},
   "outputs": [
    {
     "name": "stdout",
     "output_type": "stream",
     "text": [
      "<class 'pandas.core.frame.DataFrame'>\n",
      "RangeIndex: 2354 entries, 0 to 2353\n",
      "Data columns (total 3 columns):\n",
      " #   Column          Non-Null Count  Dtype\n",
      "---  ------          --------------  -----\n",
      " 0   tweet_id        2354 non-null   int64\n",
      " 1   retweet_count   2354 non-null   int64\n",
      " 2   favorite_count  2354 non-null   int64\n",
      "dtypes: int64(3)\n",
      "memory usage: 55.3 KB\n"
     ]
    }
   ],
   "source": [
    "# Check the stats count table\n",
    "df_count.info()"
   ]
  },
  {
   "cell_type": "code",
   "execution_count": 847,
   "metadata": {},
   "outputs": [
    {
     "data": {
      "text/html": [
       "<div>\n",
       "<style scoped>\n",
       "    .dataframe tbody tr th:only-of-type {\n",
       "        vertical-align: middle;\n",
       "    }\n",
       "\n",
       "    .dataframe tbody tr th {\n",
       "        vertical-align: top;\n",
       "    }\n",
       "\n",
       "    .dataframe thead th {\n",
       "        text-align: right;\n",
       "    }\n",
       "</style>\n",
       "<table border=\"1\" class=\"dataframe\">\n",
       "  <thead>\n",
       "    <tr style=\"text-align: right;\">\n",
       "      <th></th>\n",
       "      <th>tweet_id</th>\n",
       "      <th>retweet_count</th>\n",
       "      <th>favorite_count</th>\n",
       "    </tr>\n",
       "  </thead>\n",
       "  <tbody>\n",
       "    <tr>\n",
       "      <th>110</th>\n",
       "      <td>871032628920680449</td>\n",
       "      <td>3999</td>\n",
       "      <td>23255</td>\n",
       "    </tr>\n",
       "    <tr>\n",
       "      <th>975</th>\n",
       "      <td>750011400160841729</td>\n",
       "      <td>1035</td>\n",
       "      <td>3568</td>\n",
       "    </tr>\n",
       "    <tr>\n",
       "      <th>820</th>\n",
       "      <td>770093767776997377</td>\n",
       "      <td>3520</td>\n",
       "      <td>0</td>\n",
       "    </tr>\n",
       "    <tr>\n",
       "      <th>1254</th>\n",
       "      <td>710588934686908417</td>\n",
       "      <td>2107</td>\n",
       "      <td>4968</td>\n",
       "    </tr>\n",
       "    <tr>\n",
       "      <th>649</th>\n",
       "      <td>792883833364439040</td>\n",
       "      <td>4964</td>\n",
       "      <td>12666</td>\n",
       "    </tr>\n",
       "  </tbody>\n",
       "</table>\n",
       "</div>"
      ],
      "text/plain": [
       "                tweet_id  retweet_count  favorite_count\n",
       "110   871032628920680449           3999           23255\n",
       "975   750011400160841729           1035            3568\n",
       "820   770093767776997377           3520               0\n",
       "1254  710588934686908417           2107            4968\n",
       "649   792883833364439040           4964           12666"
      ]
     },
     "execution_count": 847,
     "metadata": {},
     "output_type": "execute_result"
    }
   ],
   "source": [
    "#visual assessment of the sample\n",
    "df_count.sample(5)"
   ]
  },
  {
   "cell_type": "code",
   "execution_count": 848,
   "metadata": {},
   "outputs": [
    {
     "data": {
      "text/plain": [
       "0       False\n",
       "1       False\n",
       "2       False\n",
       "3       False\n",
       "4       False\n",
       "        ...  \n",
       "2349    False\n",
       "2350    False\n",
       "2351    False\n",
       "2352    False\n",
       "2353    False\n",
       "Name: tweet_id, Length: 2354, dtype: bool"
      ]
     },
     "execution_count": 848,
     "metadata": {},
     "output_type": "execute_result"
    }
   ],
   "source": [
    "#Verify.. that there is no duplicated\n",
    "df_count.tweet_id.duplicated()"
   ]
  },
  {
   "cell_type": "code",
   "execution_count": 849,
   "metadata": {},
   "outputs": [],
   "source": [
    "#For further verification, the two tables have been merged to find out the missing values\n",
    "df_join = pd.merge(df_archive_no_retweets, df_image, on=\"tweet_id\" ,how=\"left\")"
   ]
  },
  {
   "cell_type": "code",
   "execution_count": 850,
   "metadata": {},
   "outputs": [
    {
     "name": "stdout",
     "output_type": "stream",
     "text": [
      "<class 'pandas.core.frame.DataFrame'>\n",
      "Int64Index: 2117 entries, 0 to 2116\n",
      "Data columns (total 28 columns):\n",
      " #   Column                      Non-Null Count  Dtype  \n",
      "---  ------                      --------------  -----  \n",
      " 0   tweet_id                    2117 non-null   int64  \n",
      " 1   in_reply_to_status_id       23 non-null     float64\n",
      " 2   in_reply_to_user_id         23 non-null     float64\n",
      " 3   timestamp                   2117 non-null   object \n",
      " 4   source                      2117 non-null   object \n",
      " 5   text                        2117 non-null   object \n",
      " 6   retweeted_status_id         0 non-null      float64\n",
      " 7   retweeted_status_user_id    0 non-null      float64\n",
      " 8   retweeted_status_timestamp  0 non-null      object \n",
      " 9   expanded_urls               2117 non-null   object \n",
      " 10  rating_numerator            2117 non-null   int64  \n",
      " 11  rating_denominator          2117 non-null   int64  \n",
      " 12  name                        2117 non-null   object \n",
      " 13  doggo                       2117 non-null   object \n",
      " 14  floofer                     2117 non-null   object \n",
      " 15  pupper                      2117 non-null   object \n",
      " 16  puppo                       2117 non-null   object \n",
      " 17  jpg_url                     1994 non-null   object \n",
      " 18  img_num                     1994 non-null   float64\n",
      " 19  p1                          1994 non-null   object \n",
      " 20  p1_conf                     1994 non-null   float64\n",
      " 21  p1_dog                      1994 non-null   object \n",
      " 22  p2                          1994 non-null   object \n",
      " 23  p2_conf                     1994 non-null   float64\n",
      " 24  p2_dog                      1994 non-null   object \n",
      " 25  p3                          1994 non-null   object \n",
      " 26  p3_conf                     1994 non-null   float64\n",
      " 27  p3_dog                      1994 non-null   object \n",
      "dtypes: float64(8), int64(3), object(17)\n",
      "memory usage: 479.6+ KB\n"
     ]
    }
   ],
   "source": [
    "#Look at the table after the merge\n",
    "df_join.info()"
   ]
  },
  {
   "cell_type": "code",
   "execution_count": 851,
   "metadata": {},
   "outputs": [
    {
     "name": "stdout",
     "output_type": "stream",
     "text": [
      "<class 'pandas.core.frame.DataFrame'>\n",
      "Int64Index: 1994 entries, 0 to 2116\n",
      "Data columns (total 28 columns):\n",
      " #   Column                      Non-Null Count  Dtype  \n",
      "---  ------                      --------------  -----  \n",
      " 0   tweet_id                    1994 non-null   int64  \n",
      " 1   in_reply_to_status_id       23 non-null     float64\n",
      " 2   in_reply_to_user_id         23 non-null     float64\n",
      " 3   timestamp                   1994 non-null   object \n",
      " 4   source                      1994 non-null   object \n",
      " 5   text                        1994 non-null   object \n",
      " 6   retweeted_status_id         0 non-null      float64\n",
      " 7   retweeted_status_user_id    0 non-null      float64\n",
      " 8   retweeted_status_timestamp  0 non-null      object \n",
      " 9   expanded_urls               1994 non-null   object \n",
      " 10  rating_numerator            1994 non-null   int64  \n",
      " 11  rating_denominator          1994 non-null   int64  \n",
      " 12  name                        1994 non-null   object \n",
      " 13  doggo                       1994 non-null   object \n",
      " 14  floofer                     1994 non-null   object \n",
      " 15  pupper                      1994 non-null   object \n",
      " 16  puppo                       1994 non-null   object \n",
      " 17  jpg_url                     1994 non-null   object \n",
      " 18  img_num                     1994 non-null   float64\n",
      " 19  p1                          1994 non-null   object \n",
      " 20  p1_conf                     1994 non-null   float64\n",
      " 21  p1_dog                      1994 non-null   object \n",
      " 22  p2                          1994 non-null   object \n",
      " 23  p2_conf                     1994 non-null   float64\n",
      " 24  p2_dog                      1994 non-null   object \n",
      " 25  p3                          1994 non-null   object \n",
      " 26  p3_conf                     1994 non-null   float64\n",
      " 27  p3_dog                      1994 non-null   object \n",
      "dtypes: float64(8), int64(3), object(17)\n",
      "memory usage: 451.8+ KB\n"
     ]
    }
   ],
   "source": [
    "# Take a look at the table after excluding tweets that do not have an image\n",
    "df_join[((\n",
    "    df_join['jpg_url'].notnull()  \n",
    "    )\n",
    ")].info()"
   ]
  },
  {
   "cell_type": "code",
   "execution_count": 852,
   "metadata": {},
   "outputs": [
    {
     "data": {
      "text/html": [
       "<div>\n",
       "<style scoped>\n",
       "    .dataframe tbody tr th:only-of-type {\n",
       "        vertical-align: middle;\n",
       "    }\n",
       "\n",
       "    .dataframe tbody tr th {\n",
       "        vertical-align: top;\n",
       "    }\n",
       "\n",
       "    .dataframe thead th {\n",
       "        text-align: right;\n",
       "    }\n",
       "</style>\n",
       "<table border=\"1\" class=\"dataframe\">\n",
       "  <thead>\n",
       "    <tr style=\"text-align: right;\">\n",
       "      <th></th>\n",
       "      <th>tweet_id</th>\n",
       "      <th>in_reply_to_status_id</th>\n",
       "      <th>in_reply_to_user_id</th>\n",
       "      <th>timestamp</th>\n",
       "      <th>source</th>\n",
       "      <th>text</th>\n",
       "      <th>retweeted_status_id</th>\n",
       "      <th>retweeted_status_user_id</th>\n",
       "      <th>retweeted_status_timestamp</th>\n",
       "      <th>expanded_urls</th>\n",
       "      <th>...</th>\n",
       "      <th>img_num</th>\n",
       "      <th>p1</th>\n",
       "      <th>p1_conf</th>\n",
       "      <th>p1_dog</th>\n",
       "      <th>p2</th>\n",
       "      <th>p2_conf</th>\n",
       "      <th>p2_dog</th>\n",
       "      <th>p3</th>\n",
       "      <th>p3_conf</th>\n",
       "      <th>p3_dog</th>\n",
       "    </tr>\n",
       "  </thead>\n",
       "  <tbody>\n",
       "    <tr>\n",
       "      <th>1600</th>\n",
       "      <td>676263575653122048</td>\n",
       "      <td>NaN</td>\n",
       "      <td>NaN</td>\n",
       "      <td>2015-12-14 04:52:55 +0000</td>\n",
       "      <td>&lt;a href=\"http://twitter.com/download/iphone\" r...</td>\n",
       "      <td>All this pupper wanted to do was go skiing. No...</td>\n",
       "      <td>NaN</td>\n",
       "      <td>NaN</td>\n",
       "      <td>NaN</td>\n",
       "      <td>https://twitter.com/dog_rates/status/676263575...</td>\n",
       "      <td>...</td>\n",
       "      <td>1.0</td>\n",
       "      <td>teddy</td>\n",
       "      <td>0.098283</td>\n",
       "      <td>False</td>\n",
       "      <td>toy_poodle</td>\n",
       "      <td>0.098029</td>\n",
       "      <td>True</td>\n",
       "      <td>shopping_basket</td>\n",
       "      <td>0.077852</td>\n",
       "      <td>False</td>\n",
       "    </tr>\n",
       "    <tr>\n",
       "      <th>202</th>\n",
       "      <td>845306882940190720</td>\n",
       "      <td>NaN</td>\n",
       "      <td>NaN</td>\n",
       "      <td>2017-03-24 16:10:40 +0000</td>\n",
       "      <td>&lt;a href=\"http://twitter.com/download/iphone\" r...</td>\n",
       "      <td>This is Pickles. She's a silly pupper. Thinks ...</td>\n",
       "      <td>NaN</td>\n",
       "      <td>NaN</td>\n",
       "      <td>NaN</td>\n",
       "      <td>https://twitter.com/dog_rates/status/845306882...</td>\n",
       "      <td>...</td>\n",
       "      <td>1.0</td>\n",
       "      <td>Irish_water_spaniel</td>\n",
       "      <td>0.567475</td>\n",
       "      <td>True</td>\n",
       "      <td>Labrador_retriever</td>\n",
       "      <td>0.169496</td>\n",
       "      <td>True</td>\n",
       "      <td>curly-coated_retriever</td>\n",
       "      <td>0.101518</td>\n",
       "      <td>True</td>\n",
       "    </tr>\n",
       "    <tr>\n",
       "      <th>1143</th>\n",
       "      <td>703382836347330562</td>\n",
       "      <td>NaN</td>\n",
       "      <td>NaN</td>\n",
       "      <td>2016-02-27 00:55:11 +0000</td>\n",
       "      <td>&lt;a href=\"http://twitter.com/download/iphone\" r...</td>\n",
       "      <td>This is Charlie. He's a West Side Niddlewog. M...</td>\n",
       "      <td>NaN</td>\n",
       "      <td>NaN</td>\n",
       "      <td>NaN</td>\n",
       "      <td>https://twitter.com/dog_rates/status/703382836...</td>\n",
       "      <td>...</td>\n",
       "      <td>2.0</td>\n",
       "      <td>golden_retriever</td>\n",
       "      <td>0.945664</td>\n",
       "      <td>True</td>\n",
       "      <td>standard_poodle</td>\n",
       "      <td>0.014392</td>\n",
       "      <td>True</td>\n",
       "      <td>Tibetan_mastiff</td>\n",
       "      <td>0.012022</td>\n",
       "      <td>True</td>\n",
       "    </tr>\n",
       "    <tr>\n",
       "      <th>1841</th>\n",
       "      <td>670840546554966016</td>\n",
       "      <td>NaN</td>\n",
       "      <td>NaN</td>\n",
       "      <td>2015-11-29 05:43:44 +0000</td>\n",
       "      <td>&lt;a href=\"http://twitter.com/download/iphone\" r...</td>\n",
       "      <td>Meet Colby. He's that one cool friend that get...</td>\n",
       "      <td>NaN</td>\n",
       "      <td>NaN</td>\n",
       "      <td>NaN</td>\n",
       "      <td>https://twitter.com/dog_rates/status/670840546...</td>\n",
       "      <td>...</td>\n",
       "      <td>1.0</td>\n",
       "      <td>Shih-Tzu</td>\n",
       "      <td>0.963622</td>\n",
       "      <td>True</td>\n",
       "      <td>Lhasa</td>\n",
       "      <td>0.016017</td>\n",
       "      <td>True</td>\n",
       "      <td>guinea_pig</td>\n",
       "      <td>0.007932</td>\n",
       "      <td>False</td>\n",
       "    </tr>\n",
       "    <tr>\n",
       "      <th>1687</th>\n",
       "      <td>674269164442398721</td>\n",
       "      <td>NaN</td>\n",
       "      <td>NaN</td>\n",
       "      <td>2015-12-08 16:47:50 +0000</td>\n",
       "      <td>&lt;a href=\"http://twitter.com/download/iphone\" r...</td>\n",
       "      <td>This is Bob. He's a Juniper Fitzsimmons. His b...</td>\n",
       "      <td>NaN</td>\n",
       "      <td>NaN</td>\n",
       "      <td>NaN</td>\n",
       "      <td>https://twitter.com/dog_rates/status/674269164...</td>\n",
       "      <td>...</td>\n",
       "      <td>1.0</td>\n",
       "      <td>pug</td>\n",
       "      <td>0.622921</td>\n",
       "      <td>True</td>\n",
       "      <td>Norwegian_elkhound</td>\n",
       "      <td>0.048659</td>\n",
       "      <td>True</td>\n",
       "      <td>Cardigan</td>\n",
       "      <td>0.016966</td>\n",
       "      <td>True</td>\n",
       "    </tr>\n",
       "  </tbody>\n",
       "</table>\n",
       "<p>5 rows × 28 columns</p>\n",
       "</div>"
      ],
      "text/plain": [
       "                tweet_id  in_reply_to_status_id  in_reply_to_user_id  \\\n",
       "1600  676263575653122048                    NaN                  NaN   \n",
       "202   845306882940190720                    NaN                  NaN   \n",
       "1143  703382836347330562                    NaN                  NaN   \n",
       "1841  670840546554966016                    NaN                  NaN   \n",
       "1687  674269164442398721                    NaN                  NaN   \n",
       "\n",
       "                      timestamp  \\\n",
       "1600  2015-12-14 04:52:55 +0000   \n",
       "202   2017-03-24 16:10:40 +0000   \n",
       "1143  2016-02-27 00:55:11 +0000   \n",
       "1841  2015-11-29 05:43:44 +0000   \n",
       "1687  2015-12-08 16:47:50 +0000   \n",
       "\n",
       "                                                 source  \\\n",
       "1600  <a href=\"http://twitter.com/download/iphone\" r...   \n",
       "202   <a href=\"http://twitter.com/download/iphone\" r...   \n",
       "1143  <a href=\"http://twitter.com/download/iphone\" r...   \n",
       "1841  <a href=\"http://twitter.com/download/iphone\" r...   \n",
       "1687  <a href=\"http://twitter.com/download/iphone\" r...   \n",
       "\n",
       "                                                   text  retweeted_status_id  \\\n",
       "1600  All this pupper wanted to do was go skiing. No...                  NaN   \n",
       "202   This is Pickles. She's a silly pupper. Thinks ...                  NaN   \n",
       "1143  This is Charlie. He's a West Side Niddlewog. M...                  NaN   \n",
       "1841  Meet Colby. He's that one cool friend that get...                  NaN   \n",
       "1687  This is Bob. He's a Juniper Fitzsimmons. His b...                  NaN   \n",
       "\n",
       "      retweeted_status_user_id retweeted_status_timestamp  \\\n",
       "1600                       NaN                        NaN   \n",
       "202                        NaN                        NaN   \n",
       "1143                       NaN                        NaN   \n",
       "1841                       NaN                        NaN   \n",
       "1687                       NaN                        NaN   \n",
       "\n",
       "                                          expanded_urls  ...  img_num  \\\n",
       "1600  https://twitter.com/dog_rates/status/676263575...  ...      1.0   \n",
       "202   https://twitter.com/dog_rates/status/845306882...  ...      1.0   \n",
       "1143  https://twitter.com/dog_rates/status/703382836...  ...      2.0   \n",
       "1841  https://twitter.com/dog_rates/status/670840546...  ...      1.0   \n",
       "1687  https://twitter.com/dog_rates/status/674269164...  ...      1.0   \n",
       "\n",
       "                       p1   p1_conf p1_dog                  p2   p2_conf  \\\n",
       "1600                teddy  0.098283  False          toy_poodle  0.098029   \n",
       "202   Irish_water_spaniel  0.567475   True  Labrador_retriever  0.169496   \n",
       "1143     golden_retriever  0.945664   True     standard_poodle  0.014392   \n",
       "1841             Shih-Tzu  0.963622   True               Lhasa  0.016017   \n",
       "1687                  pug  0.622921   True  Norwegian_elkhound  0.048659   \n",
       "\n",
       "     p2_dog                      p3   p3_conf p3_dog  \n",
       "1600   True         shopping_basket  0.077852  False  \n",
       "202    True  curly-coated_retriever  0.101518   True  \n",
       "1143   True         Tibetan_mastiff  0.012022   True  \n",
       "1841   True              guinea_pig  0.007932  False  \n",
       "1687   True                Cardigan  0.016966   True  \n",
       "\n",
       "[5 rows x 28 columns]"
      ]
     },
     "execution_count": 852,
     "metadata": {},
     "output_type": "execute_result"
    }
   ],
   "source": [
    "#Random sample\n",
    "df_join.sample(5)"
   ]
  },
  {
   "cell_type": "code",
   "execution_count": 853,
   "metadata": {},
   "outputs": [
    {
     "data": {
      "text/plain": [
       "10     2099\n",
       "50        3\n",
       "11        2\n",
       "80        2\n",
       "70        1\n",
       "7         1\n",
       "150       1\n",
       "170       1\n",
       "20        1\n",
       "90        1\n",
       "40        1\n",
       "130       1\n",
       "110       1\n",
       "120       1\n",
       "2         1\n",
       "Name: rating_denominator, dtype: int64"
      ]
     },
     "execution_count": 853,
     "metadata": {},
     "output_type": "execute_result"
    }
   ],
   "source": [
    "#Check unique values\n",
    "df_join['rating_denominator'].value_counts()"
   ]
  },
  {
   "cell_type": "code",
   "execution_count": 854,
   "metadata": {},
   "outputs": [
    {
     "data": {
      "text/html": [
       "<div>\n",
       "<style scoped>\n",
       "    .dataframe tbody tr th:only-of-type {\n",
       "        vertical-align: middle;\n",
       "    }\n",
       "\n",
       "    .dataframe tbody tr th {\n",
       "        vertical-align: top;\n",
       "    }\n",
       "\n",
       "    .dataframe thead th {\n",
       "        text-align: right;\n",
       "    }\n",
       "</style>\n",
       "<table border=\"1\" class=\"dataframe\">\n",
       "  <thead>\n",
       "    <tr style=\"text-align: right;\">\n",
       "      <th></th>\n",
       "      <th>img_num</th>\n",
       "      <th>jpg_url</th>\n",
       "    </tr>\n",
       "  </thead>\n",
       "  <tbody>\n",
       "    <tr>\n",
       "      <th>304</th>\n",
       "      <td>4.0</td>\n",
       "      <td>https://pbs.twimg.com/media/C3rN-lcWEAA9CmR.jpg</td>\n",
       "    </tr>\n",
       "    <tr>\n",
       "      <th>504</th>\n",
       "      <td>4.0</td>\n",
       "      <td>https://pbs.twimg.com/media/CvukbEkWAAAV-69.jpg</td>\n",
       "    </tr>\n",
       "    <tr>\n",
       "      <th>608</th>\n",
       "      <td>4.0</td>\n",
       "      <td>https://pbs.twimg.com/media/Cr2_6R8WAAAUMtc.jpg</td>\n",
       "    </tr>\n",
       "    <tr>\n",
       "      <th>283</th>\n",
       "      <td>4.0</td>\n",
       "      <td>https://pbs.twimg.com/media/C4UZLZLWYAA0dcs.jpg</td>\n",
       "    </tr>\n",
       "    <tr>\n",
       "      <th>278</th>\n",
       "      <td>4.0</td>\n",
       "      <td>https://pbs.twimg.com/media/C4lst0bXAAE6MP8.jpg</td>\n",
       "    </tr>\n",
       "    <tr>\n",
       "      <th>33</th>\n",
       "      <td>4.0</td>\n",
       "      <td>https://pbs.twimg.com/media/DEi_N9qXYAAgEEw.jpg</td>\n",
       "    </tr>\n",
       "    <tr>\n",
       "      <th>1315</th>\n",
       "      <td>4.0</td>\n",
       "      <td>https://pbs.twimg.com/media/CZMJYCRVAAE35Wk.jpg</td>\n",
       "    </tr>\n",
       "    <tr>\n",
       "      <th>273</th>\n",
       "      <td>4.0</td>\n",
       "      <td>https://pbs.twimg.com/media/C4uLLGuUoAAkIHm.jpg</td>\n",
       "    </tr>\n",
       "    <tr>\n",
       "      <th>181</th>\n",
       "      <td>4.0</td>\n",
       "      <td>https://pbs.twimg.com/media/C8m3-iQVoAAETnF.jpg</td>\n",
       "    </tr>\n",
       "    <tr>\n",
       "      <th>162</th>\n",
       "      <td>4.0</td>\n",
       "      <td>https://pbs.twimg.com/media/C9px7jyVwAAnmwN.jpg</td>\n",
       "    </tr>\n",
       "  </tbody>\n",
       "</table>\n",
       "</div>"
      ],
      "text/plain": [
       "      img_num                                          jpg_url\n",
       "304       4.0  https://pbs.twimg.com/media/C3rN-lcWEAA9CmR.jpg\n",
       "504       4.0  https://pbs.twimg.com/media/CvukbEkWAAAV-69.jpg\n",
       "608       4.0  https://pbs.twimg.com/media/Cr2_6R8WAAAUMtc.jpg\n",
       "283       4.0  https://pbs.twimg.com/media/C4UZLZLWYAA0dcs.jpg\n",
       "278       4.0  https://pbs.twimg.com/media/C4lst0bXAAE6MP8.jpg\n",
       "33        4.0  https://pbs.twimg.com/media/DEi_N9qXYAAgEEw.jpg\n",
       "1315      4.0  https://pbs.twimg.com/media/CZMJYCRVAAE35Wk.jpg\n",
       "273       4.0  https://pbs.twimg.com/media/C4uLLGuUoAAkIHm.jpg\n",
       "181       4.0  https://pbs.twimg.com/media/C8m3-iQVoAAETnF.jpg\n",
       "162       4.0  https://pbs.twimg.com/media/C9px7jyVwAAnmwN.jpg"
      ]
     },
     "execution_count": 854,
     "metadata": {},
     "output_type": "execute_result"
    }
   ],
   "source": [
    "#Visually check the column for the number of images, as well as the link for the images\n",
    "df_join[[\"img_num\",\"jpg_url\"]].sort_values(by=['img_num'], ascending=False).head(10)"
   ]
  },
  {
   "cell_type": "markdown",
   "metadata": {},
   "source": [
    "### Quality issues\n",
    "\n",
    "#### df_archive\n",
    "\n",
    "1. We actually have 2117 tweets but the number of tweets that have df_image is 1994 - we have missing values \n",
    "\n",
    "2. timestamp  column Object type has to be modified  and tweet_id  column  int64 to  Object\n",
    "\n",
    "3.  In the Columns of the (name , doggo , flooter, pupper ,puppo), there are values ​​with the name None, which means that they are empty values. The value must be modified and made empty \n",
    "\n",
    "4. (retweeted_status_id ,  retweeted_status_user_id , retweeted_status_timestamp ) These columns contain null values. They show retweeted answers being dropped\n",
    "\n",
    "5. (in_reply_to_status_id  ,in_reply_to_user_id ) Columns contain missing values and do not have and cannot be used. They must be dropped\n",
    " \n",
    "6. (rating_denominator)  column contains a number of 2099 as a result of a value of 10, which is illogical and makes this information useless.\n",
    "\n",
    "7. (source) column contains redundant and useless data that should be dropped\n",
    "\n",
    "\n",
    "#### df_image \n",
    "\n",
    "8.   jpg_url  column contains only one picture. We show in a column img_num\t that contains more than one picture"
   ]
  },
  {
   "cell_type": "markdown",
   "metadata": {
    "extensions": {
     "jupyter_dashboards": {
      "version": 1,
      "views": {
       "grid_default": {
        "col": 0,
        "height": 7,
        "hidden": false,
        "row": 40,
        "width": 12
       },
       "report_default": {
        "hidden": false
       }
      }
     }
    }
   },
   "source": [
    "### Tidiness issues\n",
    "1. The table (df_archive , df_image , df_join) must be merged into one table \n",
    "\n",
    "2. Merge the data from  (doggo, puppo, pupper, floofer) into a single column. NEW"
   ]
  },
  {
   "cell_type": "markdown",
   "metadata": {
    "extensions": {
     "jupyter_dashboards": {
      "version": 1,
      "views": {
       "grid_default": {
        "col": 4,
        "height": 4,
        "hidden": false,
        "row": 32,
        "width": 4
       },
       "report_default": {
        "hidden": false
       }
      }
     }
    }
   },
   "source": [
    "## Cleaning Data\n",
    "In this section, clean **all** of the issues you documented while assessing. \n",
    "\n",
    "**Note:** Make a copy of the original data before cleaning. Cleaning includes merging individual pieces of data according to the rules of [tidy data](https://cran.r-project.org/web/packages/tidyr/vignettes/tidy-data.html). The result should be a high-quality and tidy master pandas DataFrame (or DataFrames, if appropriate)."
   ]
  },
  {
   "cell_type": "code",
   "execution_count": 855,
   "metadata": {},
   "outputs": [],
   "source": [
    "# Make copies of original pieces of data\n",
    "#scope of work\n",
    "#You only want original ratings (no retweets) that have images\n",
    "#df_archive_new = df_archive[(df_archive['retweeted_status_id'].isnull() & df_archive['expanded_urls'].notnull() )]\n",
    "\n",
    "#copy data \n",
    "df_archive_new = df_archive.copy()\n",
    "\n",
    "# drop retweeted row \n",
    "drop_row = df_archive_new[(df_archive_new['retweeted_status_id'].notnull())].index\n",
    "df_archive_new.drop(drop_row,  inplace=True)\n",
    "\n",
    "# drop rows without images\n",
    "drop_row = df_archive_new[(df_archive_new['expanded_urls'].isnull())].index\n",
    "df_archive_new.drop(drop_row ,  inplace=True)\n",
    "\n",
    "#copy image \n",
    "df_image_new = df_image.copy()\n",
    "\n",
    "#copy Likes and retweets counts\n",
    "df_count_new = df_count.copy()"
   ]
  },
  {
   "cell_type": "code",
   "execution_count": 856,
   "metadata": {},
   "outputs": [
    {
     "data": {
      "text/plain": [
       "0"
      ]
     },
     "execution_count": 856,
     "metadata": {},
     "output_type": "execute_result"
    }
   ],
   "source": [
    "#chack row  retweeted_\n",
    "df_archive_new['tweet_id'][(df_archive_new['retweeted_status_id'].notnull())].count()"
   ]
  },
  {
   "cell_type": "code",
   "execution_count": 857,
   "metadata": {},
   "outputs": [
    {
     "data": {
      "text/plain": [
       "0"
      ]
     },
     "execution_count": 857,
     "metadata": {},
     "output_type": "execute_result"
    }
   ],
   "source": [
    "#chack row without images\n",
    "df_archive_new['tweet_id'][(df_archive_new['expanded_urls'].isnull())].count()"
   ]
  },
  {
   "cell_type": "code",
   "execution_count": 858,
   "metadata": {},
   "outputs": [
    {
     "name": "stdout",
     "output_type": "stream",
     "text": [
      "<class 'pandas.core.frame.DataFrame'>\n",
      "Int64Index: 2117 entries, 0 to 2355\n",
      "Data columns (total 17 columns):\n",
      " #   Column                      Non-Null Count  Dtype  \n",
      "---  ------                      --------------  -----  \n",
      " 0   tweet_id                    2117 non-null   int64  \n",
      " 1   in_reply_to_status_id       23 non-null     float64\n",
      " 2   in_reply_to_user_id         23 non-null     float64\n",
      " 3   timestamp                   2117 non-null   object \n",
      " 4   source                      2117 non-null   object \n",
      " 5   text                        2117 non-null   object \n",
      " 6   retweeted_status_id         0 non-null      float64\n",
      " 7   retweeted_status_user_id    0 non-null      float64\n",
      " 8   retweeted_status_timestamp  0 non-null      object \n",
      " 9   expanded_urls               2117 non-null   object \n",
      " 10  rating_numerator            2117 non-null   int64  \n",
      " 11  rating_denominator          2117 non-null   int64  \n",
      " 12  name                        2117 non-null   object \n",
      " 13  doggo                       2117 non-null   object \n",
      " 14  floofer                     2117 non-null   object \n",
      " 15  pupper                      2117 non-null   object \n",
      " 16  puppo                       2117 non-null   object \n",
      "dtypes: float64(4), int64(3), object(10)\n",
      "memory usage: 297.7+ KB\n"
     ]
    }
   ],
   "source": [
    "#info data \n",
    "df_archive_new.info()"
   ]
  },
  {
   "cell_type": "markdown",
   "metadata": {},
   "source": [
    "### Issue #1:"
   ]
  },
  {
   "cell_type": "markdown",
   "metadata": {},
   "source": [
    "#### Define  \n",
    "The table (df_archive , df_image , df_join) must be merged into one table"
   ]
  },
  {
   "cell_type": "markdown",
   "metadata": {},
   "source": [
    "#### Code"
   ]
  },
  {
   "cell_type": "code",
   "execution_count": 859,
   "metadata": {},
   "outputs": [],
   "source": [
    "#Merging tables into one table and linking them by Tweet ID\n",
    "df_Tweet_stats2 =[]\n",
    "df_Tweet_stats2 = df_archive_new.merge(df_image_new , on=\"tweet_id\" ,how=\"left\")\n",
    "df_Tweet_stats3 = df_Tweet_stats2.merge( df_count_new , on=\"tweet_id\" ,how=\"left\")"
   ]
  },
  {
   "cell_type": "markdown",
   "metadata": {},
   "source": [
    "#### Test"
   ]
  },
  {
   "cell_type": "code",
   "execution_count": 860,
   "metadata": {},
   "outputs": [
    {
     "name": "stdout",
     "output_type": "stream",
     "text": [
      "<class 'pandas.core.frame.DataFrame'>\n",
      "Int64Index: 2117 entries, 0 to 2116\n",
      "Data columns (total 30 columns):\n",
      " #   Column                      Non-Null Count  Dtype  \n",
      "---  ------                      --------------  -----  \n",
      " 0   tweet_id                    2117 non-null   int64  \n",
      " 1   in_reply_to_status_id       23 non-null     float64\n",
      " 2   in_reply_to_user_id         23 non-null     float64\n",
      " 3   timestamp                   2117 non-null   object \n",
      " 4   source                      2117 non-null   object \n",
      " 5   text                        2117 non-null   object \n",
      " 6   retweeted_status_id         0 non-null      float64\n",
      " 7   retweeted_status_user_id    0 non-null      float64\n",
      " 8   retweeted_status_timestamp  0 non-null      object \n",
      " 9   expanded_urls               2117 non-null   object \n",
      " 10  rating_numerator            2117 non-null   int64  \n",
      " 11  rating_denominator          2117 non-null   int64  \n",
      " 12  name                        2117 non-null   object \n",
      " 13  doggo                       2117 non-null   object \n",
      " 14  floofer                     2117 non-null   object \n",
      " 15  pupper                      2117 non-null   object \n",
      " 16  puppo                       2117 non-null   object \n",
      " 17  jpg_url                     1994 non-null   object \n",
      " 18  img_num                     1994 non-null   float64\n",
      " 19  p1                          1994 non-null   object \n",
      " 20  p1_conf                     1994 non-null   float64\n",
      " 21  p1_dog                      1994 non-null   object \n",
      " 22  p2                          1994 non-null   object \n",
      " 23  p2_conf                     1994 non-null   float64\n",
      " 24  p2_dog                      1994 non-null   object \n",
      " 25  p3                          1994 non-null   object \n",
      " 26  p3_conf                     1994 non-null   float64\n",
      " 27  p3_dog                      1994 non-null   object \n",
      " 28  retweet_count               2117 non-null   int64  \n",
      " 29  favorite_count              2117 non-null   int64  \n",
      "dtypes: float64(8), int64(5), object(17)\n",
      "memory usage: 512.7+ KB\n"
     ]
    }
   ],
   "source": [
    "#\n",
    "df_Tweet_stats3.info()"
   ]
  },
  {
   "cell_type": "markdown",
   "metadata": {},
   "source": [
    "### Issue #2:  "
   ]
  },
  {
   "cell_type": "markdown",
   "metadata": {},
   "source": [
    "#### Define   \n",
    "In the Columns of the (name , doggo , flooter, pupper ,puppo), there are values ​​with the name None, which means that they are empty values. The value must be modified and made empty "
   ]
  },
  {
   "cell_type": "code",
   "execution_count": 861,
   "metadata": {},
   "outputs": [],
   "source": [
    "#\n",
    "Column_None = [\"name\" , \"doggo\" , \"floofer\", \"pupper\" ,\"puppo\"]\n",
    "df_Tweet_stats3[Column_None] = df_Tweet_stats3[Column_None].replace({ \"None\": np.nan })"
   ]
  },
  {
   "cell_type": "markdown",
   "metadata": {},
   "source": [
    "#### Code"
   ]
  },
  {
   "cell_type": "code",
   "execution_count": 862,
   "metadata": {},
   "outputs": [],
   "source": [
    "#\n",
    "Column_None = [\"name\" , \"doggo\" , \"floofer\", \"pupper\" ,\"puppo\"]\n",
    "df_Tweet_stats3[Column_None] = df_Tweet_stats3[Column_None].replace({ \"None\": np.nan })"
   ]
  },
  {
   "cell_type": "markdown",
   "metadata": {},
   "source": [
    "#### Test"
   ]
  },
  {
   "cell_type": "code",
   "execution_count": 863,
   "metadata": {},
   "outputs": [
    {
     "name": "stdout",
     "output_type": "stream",
     "text": [
      "done\n"
     ]
    }
   ],
   "source": [
    "if (\"None\" in set(df_Tweet_stats3[Column_None])) :\n",
    "    print(\"recodeing\")\n",
    "else :\n",
    "    print('done')"
   ]
  },
  {
   "cell_type": "markdown",
   "metadata": {},
   "source": [
    "### Issue #3 :"
   ]
  },
  {
   "cell_type": "markdown",
   "metadata": {},
   "source": [
    "#### Define \n",
    "Merge the data from  (doggo, puppo, pupper, floofer) into a single column (category_dog)"
   ]
  },
  {
   "cell_type": "code",
   "execution_count": 864,
   "metadata": {},
   "outputs": [],
   "source": [
    "# columns\n",
    "columns = ['doggo', 'floofer', 'pupper', 'puppo']\n",
    "\n",
    "# Merge the data from (doggo, puppo, pupper, floofer) into a single column (category_dog)\n",
    "df_Tweet_stats3['category_dog'] = df_Tweet_stats3[columns].apply(lambda x: ','.join(x.dropna()), axis=1)\n",
    "\n",
    "#fix null value \n",
    "df_Tweet_stats3['category_dog'] = df_Tweet_stats3['category_dog'].replace({ \"\": np.nan })"
   ]
  },
  {
   "cell_type": "markdown",
   "metadata": {},
   "source": [
    "#### Test"
   ]
  },
  {
   "cell_type": "code",
   "execution_count": 865,
   "metadata": {},
   "outputs": [
    {
     "name": "stdout",
     "output_type": "stream",
     "text": [
      "pupper           222\n",
      "doggo             72\n",
      "puppo             23\n",
      "doggo,pupper      10\n",
      "floofer            9\n",
      "doggo,puppo        1\n",
      "doggo,floofer      1\n",
      "Name: category_dog, dtype: int64\n"
     ]
    }
   ],
   "source": [
    "if(df_Tweet_stats3['category_dog'].count()== (df_Tweet_stats3['doggo'].count()+df_Tweet_stats3['puppo'].count()+df_Tweet_stats3['pupper'].count()+df_Tweet_stats3['floofer'].count())) :\n",
    "    print(\"done \")\n",
    "else :\n",
    "      print(df_Tweet_stats3['category_dog'].value_counts())"
   ]
  },
  {
   "cell_type": "markdown",
   "metadata": {},
   "source": [
    "> This is a quality problem,  which is the presence of more than one value for the same line. We will solve it next (doggo,pupper ,doggo,puppo, doggo,floofer )"
   ]
  },
  {
   "cell_type": "markdown",
   "metadata": {},
   "source": [
    "### Issue #4:"
   ]
  },
  {
   "cell_type": "markdown",
   "metadata": {},
   "source": [
    "#### Define \n",
    "category_dog columns:  This is a quality problem, which is the presence of more than one value for the same line(doggo,pupper doggo,puppo, doggo,floofer) we will drop row "
   ]
  },
  {
   "cell_type": "markdown",
   "metadata": {},
   "source": [
    "#### Code"
   ]
  },
  {
   "cell_type": "code",
   "execution_count": 866,
   "metadata": {},
   "outputs": [],
   "source": [
    "#value drop\n",
    "category_drop =['doggo,pupper' , 'doggo,puppo' ,'doggo,floofer']\n",
    "\n",
    "#\n",
    "category_drop = df_Tweet_stats3[df_Tweet_stats3['category_dog'].isin(category_drop) == True].index\n",
    "\n",
    "#\n",
    "df_Tweet_stats3.drop(category_drop ,  inplace=True)"
   ]
  },
  {
   "cell_type": "markdown",
   "metadata": {},
   "source": [
    "#### Test"
   ]
  },
  {
   "cell_type": "code",
   "execution_count": 867,
   "metadata": {},
   "outputs": [
    {
     "name": "stdout",
     "output_type": "stream",
     "text": [
      "done and  Drop columns\n"
     ]
    }
   ],
   "source": [
    "#value drop\n",
    "category_drop =['doggo,pupper' , 'doggo,puppo' ,'doggo,floofer']\n",
    "\n",
    "if df_Tweet_stats3['category_dog'][df_Tweet_stats3['category_dog'].isin(category_drop)].count() == 0 :\n",
    "    #Drop columns 'doggo', 'floofer', 'pupper', 'puppo'\n",
    "    df_Tweet_stats3 = df_Tweet_stats3.drop(columns, axis=1)\n",
    "    print('done and  Drop columns')\n",
    "    \n",
    "else :\n",
    "    print(\"recodeing\")\n",
    "    "
   ]
  },
  {
   "cell_type": "markdown",
   "metadata": {},
   "source": [
    "### Issue #5:"
   ]
  },
  {
   "cell_type": "markdown",
   "metadata": {
    "collapsed": true,
    "extensions": {
     "jupyter_dashboards": {
      "version": 1,
      "views": {
       "grid_default": {
        "hidden": true
       },
       "report_default": {
        "hidden": true
       }
      }
     }
    }
   },
   "source": [
    "#### Define \n",
    "Drop the following columns:  retweeted_status_id , retweeted_status_user_id , retweeted_status_timestamp , jpg_url , in_reply_to_status_id,  in_reply_to_user_id  ,source"
   ]
  },
  {
   "cell_type": "markdown",
   "metadata": {},
   "source": [
    "#### Code"
   ]
  },
  {
   "cell_type": "code",
   "execution_count": 868,
   "metadata": {},
   "outputs": [],
   "source": [
    "#Drop columns\n",
    "drop_list = [ 'retweeted_status_id' , 'retweeted_status_user_id' , 'retweeted_status_timestamp' , 'jpg_url' , 'in_reply_to_status_id',  'in_reply_to_user_id'  ,'source']\n",
    "\n",
    "df_Tweet_stats3 = df_Tweet_stats3.drop(drop_list, axis=1)"
   ]
  },
  {
   "cell_type": "markdown",
   "metadata": {},
   "source": [
    "#### Test"
   ]
  },
  {
   "cell_type": "code",
   "execution_count": 869,
   "metadata": {},
   "outputs": [
    {
     "name": "stdout",
     "output_type": "stream",
     "text": [
      "<class 'pandas.core.frame.DataFrame'>\n",
      "Int64Index: 2105 entries, 0 to 2116\n",
      "Data columns (total 20 columns):\n",
      " #   Column              Non-Null Count  Dtype  \n",
      "---  ------              --------------  -----  \n",
      " 0   tweet_id            2105 non-null   int64  \n",
      " 1   timestamp           2105 non-null   object \n",
      " 2   text                2105 non-null   object \n",
      " 3   expanded_urls       2105 non-null   object \n",
      " 4   rating_numerator    2105 non-null   int64  \n",
      " 5   rating_denominator  2105 non-null   int64  \n",
      " 6   name                1490 non-null   object \n",
      " 7   img_num             1983 non-null   float64\n",
      " 8   p1                  1983 non-null   object \n",
      " 9   p1_conf             1983 non-null   float64\n",
      " 10  p1_dog              1983 non-null   object \n",
      " 11  p2                  1983 non-null   object \n",
      " 12  p2_conf             1983 non-null   float64\n",
      " 13  p2_dog              1983 non-null   object \n",
      " 14  p3                  1983 non-null   object \n",
      " 15  p3_conf             1983 non-null   float64\n",
      " 16  p3_dog              1983 non-null   object \n",
      " 17  retweet_count       2105 non-null   int64  \n",
      " 18  favorite_count      2105 non-null   int64  \n",
      " 19  category_dog        326 non-null    object \n",
      "dtypes: float64(4), int64(5), object(11)\n",
      "memory usage: 345.4+ KB\n"
     ]
    }
   ],
   "source": [
    "#\n",
    "if set(drop_list).issubset(df_Tweet_stats3.columns):\n",
    "    print('not working re codeing')\n",
    "else :  \n",
    "    df_Tweet_stats3.info()\n",
    "        "
   ]
  },
  {
   "cell_type": "markdown",
   "metadata": {},
   "source": [
    "### Issue #6:"
   ]
  },
  {
   "cell_type": "markdown",
   "metadata": {},
   "source": [
    "#### Define \n",
    "Column type  timestamp  to  datetime and p1_dog,p2_dog,p3_dog to bool and tweet_id to  object "
   ]
  },
  {
   "cell_type": "markdown",
   "metadata": {},
   "source": [
    "#### Code"
   ]
  },
  {
   "cell_type": "code",
   "execution_count": 870,
   "metadata": {},
   "outputs": [],
   "source": [
    "#\n",
    "to_bool =  [ 'p1_dog','p2_dog','p3_dog' ]\n",
    "to_timestamp = 'timestamp'\n",
    "\n",
    "df_Tweet_stats3[to_bool] = df_Tweet_stats3[to_bool].astype('bool')\n",
    "df_Tweet_stats3[to_timestamp] = pd.to_datetime(df_Tweet_stats3[to_timestamp])\n",
    "df_Tweet_stats3['tweet_id'] = df_Tweet_stats3['tweet_id'].astype('object')\n",
    "\n",
    "\n",
    " "
   ]
  },
  {
   "cell_type": "markdown",
   "metadata": {},
   "source": [
    "#### Test"
   ]
  },
  {
   "cell_type": "code",
   "execution_count": 871,
   "metadata": {},
   "outputs": [
    {
     "name": "stdout",
     "output_type": "stream",
     "text": [
      "done\n",
      "done\n",
      "done\n",
      "done\n",
      "done\n"
     ]
    }
   ],
   "source": [
    "if df_Tweet_stats3[to_bool[0]].dtypes == 'bool' :\n",
    "    print('done')\n",
    "if df_Tweet_stats3[to_bool[1]].dtypes == 'bool' :\n",
    "    print('done')\n",
    "if df_Tweet_stats3[to_bool[2]].dtypes == 'bool' :\n",
    "    print('done')\n",
    "if df_Tweet_stats3[to_timestamp].dtypes == 'datetime64[ns, UTC]' :\n",
    "    print('done')\n",
    "if df_Tweet_stats3['tweet_id'].dtypes == 'object' :\n",
    "    print('done')\n"
   ]
  },
  {
   "cell_type": "markdown",
   "metadata": {},
   "source": [
    "## Storing Data\n",
    "Save gathered, assessed, and cleaned master dataset to a CSV file named \"twitter_archive_master.csv\"."
   ]
  },
  {
   "cell_type": "code",
   "execution_count": 872,
   "metadata": {},
   "outputs": [],
   "source": [
    "df_Tweet_stats3.to_csv('Twitter_archive_master.csv')\n",
    "Twitter_archive_master=pd.read_csv('Twitter_archive_master.csv')"
   ]
  },
  {
   "cell_type": "markdown",
   "metadata": {},
   "source": [
    "## Analyzing and Visualizing Data\n",
    "In this section, analyze and visualize your wrangled data. You must produce at least **three (3) insights and one (1) visualization.**"
   ]
  },
  {
   "cell_type": "code",
   "execution_count": 873,
   "metadata": {},
   "outputs": [
    {
     "name": "stdout",
     "output_type": "stream",
     "text": [
      "<class 'pandas.core.frame.DataFrame'>\n",
      "RangeIndex: 2105 entries, 0 to 2104\n",
      "Data columns (total 21 columns):\n",
      " #   Column              Non-Null Count  Dtype  \n",
      "---  ------              --------------  -----  \n",
      " 0   Unnamed: 0          2105 non-null   int64  \n",
      " 1   tweet_id            2105 non-null   int64  \n",
      " 2   timestamp           2105 non-null   object \n",
      " 3   text                2105 non-null   object \n",
      " 4   expanded_urls       2105 non-null   object \n",
      " 5   rating_numerator    2105 non-null   int64  \n",
      " 6   rating_denominator  2105 non-null   int64  \n",
      " 7   name                1490 non-null   object \n",
      " 8   img_num             1983 non-null   float64\n",
      " 9   p1                  1983 non-null   object \n",
      " 10  p1_conf             1983 non-null   float64\n",
      " 11  p1_dog              2105 non-null   bool   \n",
      " 12  p2                  1983 non-null   object \n",
      " 13  p2_conf             1983 non-null   float64\n",
      " 14  p2_dog              2105 non-null   bool   \n",
      " 15  p3                  1983 non-null   object \n",
      " 16  p3_conf             1983 non-null   float64\n",
      " 17  p3_dog              2105 non-null   bool   \n",
      " 18  retweet_count       2105 non-null   int64  \n",
      " 19  favorite_count      2105 non-null   int64  \n",
      " 20  category_dog        326 non-null    object \n",
      "dtypes: bool(3), float64(4), int64(6), object(8)\n",
      "memory usage: 302.3+ KB\n"
     ]
    }
   ],
   "source": [
    "## \n",
    "Twitter_archive_master.info()"
   ]
  },
  {
   "cell_type": "code",
   "execution_count": 874,
   "metadata": {},
   "outputs": [],
   "source": [
    "#After converting the dataframe into a file, you must re-assign the columns  types again.\n",
    "to_bool =  [ 'p1_dog','p2_dog','p3_dog' ]\n",
    "to_timestamp = 'timestamp'\n",
    "\n",
    "Twitter_archive_master[to_bool] = Twitter_archive_master[to_bool].astype('bool')\n",
    "Twitter_archive_master[to_timestamp] = pd.to_datetime(Twitter_archive_master[to_timestamp])\n",
    "Twitter_archive_master['tweet_id'] = Twitter_archive_master['tweet_id'].astype('object')"
   ]
  },
  {
   "cell_type": "code",
   "execution_count": 875,
   "metadata": {},
   "outputs": [
    {
     "data": {
      "text/html": [
       "<div>\n",
       "<style scoped>\n",
       "    .dataframe tbody tr th:only-of-type {\n",
       "        vertical-align: middle;\n",
       "    }\n",
       "\n",
       "    .dataframe tbody tr th {\n",
       "        vertical-align: top;\n",
       "    }\n",
       "\n",
       "    .dataframe thead th {\n",
       "        text-align: right;\n",
       "    }\n",
       "</style>\n",
       "<table border=\"1\" class=\"dataframe\">\n",
       "  <thead>\n",
       "    <tr style=\"text-align: right;\">\n",
       "      <th></th>\n",
       "      <th>Unnamed: 0</th>\n",
       "      <th>rating_numerator</th>\n",
       "      <th>rating_denominator</th>\n",
       "      <th>img_num</th>\n",
       "      <th>p1_conf</th>\n",
       "      <th>p2_conf</th>\n",
       "      <th>p3_conf</th>\n",
       "      <th>retweet_count</th>\n",
       "      <th>favorite_count</th>\n",
       "    </tr>\n",
       "  </thead>\n",
       "  <tbody>\n",
       "    <tr>\n",
       "      <th>count</th>\n",
       "      <td>2105.000000</td>\n",
       "      <td>2105.000000</td>\n",
       "      <td>2105.000000</td>\n",
       "      <td>1983.000000</td>\n",
       "      <td>1983.000000</td>\n",
       "      <td>1.983000e+03</td>\n",
       "      <td>1.983000e+03</td>\n",
       "      <td>2105.000000</td>\n",
       "      <td>2105.000000</td>\n",
       "    </tr>\n",
       "    <tr>\n",
       "      <th>mean</th>\n",
       "      <td>1061.045131</td>\n",
       "      <td>12.251781</td>\n",
       "      <td>10.504038</td>\n",
       "      <td>1.203732</td>\n",
       "      <td>0.593112</td>\n",
       "      <td>1.346413e-01</td>\n",
       "      <td>6.034123e-02</td>\n",
       "      <td>2813.222328</td>\n",
       "      <td>8899.322565</td>\n",
       "    </tr>\n",
       "    <tr>\n",
       "      <th>std</th>\n",
       "      <td>611.422625</td>\n",
       "      <td>40.389622</td>\n",
       "      <td>7.125979</td>\n",
       "      <td>0.561861</td>\n",
       "      <td>0.271886</td>\n",
       "      <td>1.007247e-01</td>\n",
       "      <td>5.089379e-02</td>\n",
       "      <td>4679.003717</td>\n",
       "      <td>12134.186049</td>\n",
       "    </tr>\n",
       "    <tr>\n",
       "      <th>min</th>\n",
       "      <td>0.000000</td>\n",
       "      <td>0.000000</td>\n",
       "      <td>2.000000</td>\n",
       "      <td>1.000000</td>\n",
       "      <td>0.044333</td>\n",
       "      <td>1.011300e-08</td>\n",
       "      <td>1.740170e-10</td>\n",
       "      <td>16.000000</td>\n",
       "      <td>81.000000</td>\n",
       "    </tr>\n",
       "    <tr>\n",
       "      <th>25%</th>\n",
       "      <td>532.000000</td>\n",
       "      <td>10.000000</td>\n",
       "      <td>10.000000</td>\n",
       "      <td>1.000000</td>\n",
       "      <td>0.362715</td>\n",
       "      <td>5.417505e-02</td>\n",
       "      <td>1.624950e-02</td>\n",
       "      <td>636.000000</td>\n",
       "      <td>2040.000000</td>\n",
       "    </tr>\n",
       "    <tr>\n",
       "      <th>50%</th>\n",
       "      <td>1064.000000</td>\n",
       "      <td>11.000000</td>\n",
       "      <td>10.000000</td>\n",
       "      <td>1.000000</td>\n",
       "      <td>0.587342</td>\n",
       "      <td>1.176080e-01</td>\n",
       "      <td>4.965610e-02</td>\n",
       "      <td>1383.000000</td>\n",
       "      <td>4162.000000</td>\n",
       "    </tr>\n",
       "    <tr>\n",
       "      <th>75%</th>\n",
       "      <td>1590.000000</td>\n",
       "      <td>12.000000</td>\n",
       "      <td>10.000000</td>\n",
       "      <td>1.000000</td>\n",
       "      <td>0.843635</td>\n",
       "      <td>1.953115e-01</td>\n",
       "      <td>9.158675e-02</td>\n",
       "      <td>3261.000000</td>\n",
       "      <td>11332.000000</td>\n",
       "    </tr>\n",
       "    <tr>\n",
       "      <th>max</th>\n",
       "      <td>2116.000000</td>\n",
       "      <td>1776.000000</td>\n",
       "      <td>170.000000</td>\n",
       "      <td>4.000000</td>\n",
       "      <td>1.000000</td>\n",
       "      <td>4.880140e-01</td>\n",
       "      <td>2.734190e-01</td>\n",
       "      <td>79515.000000</td>\n",
       "      <td>132810.000000</td>\n",
       "    </tr>\n",
       "  </tbody>\n",
       "</table>\n",
       "</div>"
      ],
      "text/plain": [
       "        Unnamed: 0  rating_numerator  rating_denominator      img_num  \\\n",
       "count  2105.000000       2105.000000         2105.000000  1983.000000   \n",
       "mean   1061.045131         12.251781           10.504038     1.203732   \n",
       "std     611.422625         40.389622            7.125979     0.561861   \n",
       "min       0.000000          0.000000            2.000000     1.000000   \n",
       "25%     532.000000         10.000000           10.000000     1.000000   \n",
       "50%    1064.000000         11.000000           10.000000     1.000000   \n",
       "75%    1590.000000         12.000000           10.000000     1.000000   \n",
       "max    2116.000000       1776.000000          170.000000     4.000000   \n",
       "\n",
       "           p1_conf       p2_conf       p3_conf  retweet_count  favorite_count  \n",
       "count  1983.000000  1.983000e+03  1.983000e+03    2105.000000     2105.000000  \n",
       "mean      0.593112  1.346413e-01  6.034123e-02    2813.222328     8899.322565  \n",
       "std       0.271886  1.007247e-01  5.089379e-02    4679.003717    12134.186049  \n",
       "min       0.044333  1.011300e-08  1.740170e-10      16.000000       81.000000  \n",
       "25%       0.362715  5.417505e-02  1.624950e-02     636.000000     2040.000000  \n",
       "50%       0.587342  1.176080e-01  4.965610e-02    1383.000000     4162.000000  \n",
       "75%       0.843635  1.953115e-01  9.158675e-02    3261.000000    11332.000000  \n",
       "max       1.000000  4.880140e-01  2.734190e-01   79515.000000   132810.000000  "
      ]
     },
     "execution_count": 875,
     "metadata": {},
     "output_type": "execute_result"
    }
   ],
   "source": [
    "#\n",
    "Twitter_archive_master.describe()"
   ]
  },
  {
   "cell_type": "markdown",
   "metadata": {},
   "source": [
    "### Insights: "
   ]
  },
  {
   "cell_type": "markdown",
   "metadata": {},
   "source": [
    "#### nsights 1:  \n",
    "Do you interact with tweets more by retweeting or favorite?"
   ]
  },
  {
   "cell_type": "code",
   "execution_count": 876,
   "metadata": {},
   "outputs": [
    {
     "data": {
      "text/plain": [
       "retweet_count      5921833\n",
       "favorite_count    18733074\n",
       "dtype: int64"
      ]
     },
     "execution_count": 876,
     "metadata": {},
     "output_type": "execute_result"
    }
   ],
   "source": [
    "#sum of your favorites and retweets\n",
    "Twitter_sum =Twitter_archive_master[['retweet_count','favorite_count']].sum()\n",
    "Twitter_sum"
   ]
  },
  {
   "cell_type": "code",
   "execution_count": 877,
   "metadata": {},
   "outputs": [
    {
     "data": {
      "image/png": "[encoded data removed]",
      "text/plain": [
       "<Figure size 720x864 with 1 Axes>"
      ]
     },
     "metadata": {},
     "output_type": "display_data"
    }
   ],
   "source": [
    "pie = Twitter_sum.plot(kind='pie',fontsize=20, legend=False, autopct='%.f', subplots=False, figsize=(10,12),title='Conts retweeting vs favorite', y='counts')"
   ]
  },
  {
   "cell_type": "markdown",
   "metadata": {},
   "source": [
    "> It shows us that favorites is more than retweeting by a large margin"
   ]
  },
  {
   "cell_type": "markdown",
   "metadata": {},
   "source": [
    "#### nsights 2:  \n",
    "What are the most 10 common dog breeds in machine learning?"
   ]
  },
  {
   "cell_type": "code",
   "execution_count": 878,
   "metadata": {},
   "outputs": [],
   "source": [
    "\n",
    "dogs_type_best_p = []\n",
    "dogs_type = Twitter_archive_master\n",
    "dogs_type = dogs_type.reset_index()\n",
    "for index, row in dogs_type.iterrows():\n",
    "    if row['p1_dog'] == True :\n",
    "     dogs_type_best_p.append({\n",
    "            'tweet_id':row['tweet_id'],\n",
    "            'dog_type': row['p1']})\n",
    "    elif row['p2_dog'] == True :\n",
    "     dogs_type_best_p.append({\n",
    "            'tweet_id':row['tweet_id'],\n",
    "            'dog_type': row['p2']})\n",
    "    elif row['p3_dog'] == True :\n",
    "     dogs_type_best_p.append({\n",
    "            'tweet_id':row['tweet_id'],\n",
    "            'dog_type': row['p3']})\n",
    "\n",
    "dogs_type_best_p= pd.DataFrame(dogs_type_best_p)"
   ]
  },
  {
   "cell_type": "code",
   "execution_count": 879,
   "metadata": {},
   "outputs": [],
   "source": [
    "dogs_type = dogs_type.merge( dogs_type_best_p , on=\"tweet_id\" ,how=\"left\")"
   ]
  },
  {
   "cell_type": "code",
   "execution_count": 880,
   "metadata": {},
   "outputs": [],
   "source": [
    "hist_dog_hist = dogs_type.dog_type.value_counts()"
   ]
  },
  {
   "cell_type": "code",
   "execution_count": 881,
   "metadata": {},
   "outputs": [],
   "source": [
    "hist_dog_hist= pd.DataFrame(hist_dog_hist)"
   ]
  },
  {
   "cell_type": "code",
   "execution_count": 882,
   "metadata": {},
   "outputs": [
    {
     "data": {
      "text/plain": [
       "<AxesSubplot:title={'center':'10 common dog breeds in machine learning'}>"
      ]
     },
     "execution_count": 882,
     "metadata": {},
     "output_type": "execute_result"
    },
    {
     "data": {
      "image/png": "[encoded data removed]",
      "text/plain": [
       "<Figure size 1008x576 with 1 Axes>"
      ]
     },
     "metadata": {
      "needs_background": "light"
     },
     "output_type": "display_data"
    }
   ],
   "source": [
    "hist_dog_hist.iloc[:10 ].plot(kind='bar', fontsize=15,figsize=(14,8),title='10 common dog breeds in machine learning' )"
   ]
  },
  {
   "cell_type": "markdown",
   "metadata": {},
   "source": [
    "#### nsights 3:  \n",
    "Are the tweets with videos more interactive than other tweets?"
   ]
  },
  {
   "cell_type": "code",
   "execution_count": 883,
   "metadata": {},
   "outputs": [],
   "source": [
    "#Photo Tweets\n",
    "twitter_photo = Twitter_archive_master[Twitter_archive_master['expanded_urls'].str.contains(\"video\")!=True]\n",
    "#Video Tweets\n",
    "twitter_video = Twitter_archive_master[Twitter_archive_master['expanded_urls'].str.contains(\"video\")==True]\n"
   ]
  },
  {
   "cell_type": "code",
   "execution_count": 884,
   "metadata": {},
   "outputs": [
    {
     "data": {
      "text/html": [
       "<div>\n",
       "<style scoped>\n",
       "    .dataframe tbody tr th:only-of-type {\n",
       "        vertical-align: middle;\n",
       "    }\n",
       "\n",
       "    .dataframe tbody tr th {\n",
       "        vertical-align: top;\n",
       "    }\n",
       "\n",
       "    .dataframe thead th {\n",
       "        text-align: right;\n",
       "    }\n",
       "</style>\n",
       "<table border=\"1\" class=\"dataframe\">\n",
       "  <thead>\n",
       "    <tr style=\"text-align: right;\">\n",
       "      <th></th>\n",
       "      <th>retweet_count</th>\n",
       "      <th>favorite_count</th>\n",
       "    </tr>\n",
       "  </thead>\n",
       "  <tbody>\n",
       "    <tr>\n",
       "      <th>count</th>\n",
       "      <td>2032.000000</td>\n",
       "      <td>2032.000000</td>\n",
       "    </tr>\n",
       "    <tr>\n",
       "      <th>mean</th>\n",
       "      <td>2581.029528</td>\n",
       "      <td>8483.309055</td>\n",
       "    </tr>\n",
       "    <tr>\n",
       "      <th>std</th>\n",
       "      <td>3678.925470</td>\n",
       "      <td>11032.480126</td>\n",
       "    </tr>\n",
       "    <tr>\n",
       "      <th>min</th>\n",
       "      <td>16.000000</td>\n",
       "      <td>81.000000</td>\n",
       "    </tr>\n",
       "    <tr>\n",
       "      <th>25%</th>\n",
       "      <td>620.750000</td>\n",
       "      <td>1978.500000</td>\n",
       "    </tr>\n",
       "    <tr>\n",
       "      <th>50%</th>\n",
       "      <td>1359.500000</td>\n",
       "      <td>4053.500000</td>\n",
       "    </tr>\n",
       "    <tr>\n",
       "      <th>75%</th>\n",
       "      <td>3154.000000</td>\n",
       "      <td>11075.500000</td>\n",
       "    </tr>\n",
       "    <tr>\n",
       "      <th>max</th>\n",
       "      <td>48265.000000</td>\n",
       "      <td>132810.000000</td>\n",
       "    </tr>\n",
       "  </tbody>\n",
       "</table>\n",
       "</div>"
      ],
      "text/plain": [
       "       retweet_count  favorite_count\n",
       "count    2032.000000     2032.000000\n",
       "mean     2581.029528     8483.309055\n",
       "std      3678.925470    11032.480126\n",
       "min        16.000000       81.000000\n",
       "25%       620.750000     1978.500000\n",
       "50%      1359.500000     4053.500000\n",
       "75%      3154.000000    11075.500000\n",
       "max     48265.000000   132810.000000"
      ]
     },
     "execution_count": 884,
     "metadata": {},
     "output_type": "execute_result"
    }
   ],
   "source": [
    "twitter_photo[['expanded_urls','name','retweet_count','favorite_count']].describe()"
   ]
  },
  {
   "cell_type": "code",
   "execution_count": 885,
   "metadata": {},
   "outputs": [
    {
     "data": {
      "text/html": [
       "<div>\n",
       "<style scoped>\n",
       "    .dataframe tbody tr th:only-of-type {\n",
       "        vertical-align: middle;\n",
       "    }\n",
       "\n",
       "    .dataframe tbody tr th {\n",
       "        vertical-align: top;\n",
       "    }\n",
       "\n",
       "    .dataframe thead th {\n",
       "        text-align: right;\n",
       "    }\n",
       "</style>\n",
       "<table border=\"1\" class=\"dataframe\">\n",
       "  <thead>\n",
       "    <tr style=\"text-align: right;\">\n",
       "      <th></th>\n",
       "      <th>retweet_count</th>\n",
       "      <th>favorite_count</th>\n",
       "    </tr>\n",
       "  </thead>\n",
       "  <tbody>\n",
       "    <tr>\n",
       "      <th>count</th>\n",
       "      <td>73.000000</td>\n",
       "      <td>73.000000</td>\n",
       "    </tr>\n",
       "    <tr>\n",
       "      <th>mean</th>\n",
       "      <td>9276.452055</td>\n",
       "      <td>20479.315068</td>\n",
       "    </tr>\n",
       "    <tr>\n",
       "      <th>std</th>\n",
       "      <td>14632.284991</td>\n",
       "      <td>26988.841923</td>\n",
       "    </tr>\n",
       "    <tr>\n",
       "      <th>min</th>\n",
       "      <td>388.000000</td>\n",
       "      <td>934.000000</td>\n",
       "    </tr>\n",
       "    <tr>\n",
       "      <th>25%</th>\n",
       "      <td>1224.000000</td>\n",
       "      <td>3047.000000</td>\n",
       "    </tr>\n",
       "    <tr>\n",
       "      <th>50%</th>\n",
       "      <td>3285.000000</td>\n",
       "      <td>9555.000000</td>\n",
       "    </tr>\n",
       "    <tr>\n",
       "      <th>75%</th>\n",
       "      <td>9907.000000</td>\n",
       "      <td>25057.000000</td>\n",
       "    </tr>\n",
       "    <tr>\n",
       "      <th>max</th>\n",
       "      <td>79515.000000</td>\n",
       "      <td>131075.000000</td>\n",
       "    </tr>\n",
       "  </tbody>\n",
       "</table>\n",
       "</div>"
      ],
      "text/plain": [
       "       retweet_count  favorite_count\n",
       "count      73.000000       73.000000\n",
       "mean     9276.452055    20479.315068\n",
       "std     14632.284991    26988.841923\n",
       "min       388.000000      934.000000\n",
       "25%      1224.000000     3047.000000\n",
       "50%      3285.000000     9555.000000\n",
       "75%      9907.000000    25057.000000\n",
       "max     79515.000000   131075.000000"
      ]
     },
     "execution_count": 885,
     "metadata": {},
     "output_type": "execute_result"
    }
   ],
   "source": [
    "twitter_video[['expanded_urls','name','retweet_count','favorite_count']].describe()"
   ]
  },
  {
   "cell_type": "markdown",
   "metadata": {},
   "source": [
    ">Through the previous results, it is clear that interaction with tweets that contain video  is more than that of images"
   ]
  },
  {
   "cell_type": "markdown",
   "metadata": {
    "collapsed": true
   },
   "source": [
    "### Visualization"
   ]
  },
  {
   "cell_type": "code",
   "execution_count": 886,
   "metadata": {},
   "outputs": [
    {
     "data": {
      "image/png": "[encoded data removed]",
      "text/plain": [
       "<Figure size 900x750 with 1 Axes>"
      ]
     },
     "metadata": {
      "needs_background": "light"
     },
     "output_type": "display_data"
    }
   ],
   "source": [
    "\n",
    "# mean photo retweet_count favorite_count \n",
    "photo_mean = twitter_photo[['retweet_count','favorite_count']].mean()\n",
    "\n",
    "# mean video retweet_count favorite_count\n",
    "video_mean = twitter_video[['retweet_count','favorite_count']].mean()\n",
    "names = ['retweet_count','favorite_count']\n",
    "\n",
    "fig = plt.figure(figsize=(6,5), dpi=150)\n",
    "left, bottom, width, height = 0.1, 0.3, 0.8, 0.6\n",
    "ax = fig.add_axes([left, bottom, width, height]) \n",
    " \n",
    "width = 0.35   \n",
    "ticks = np.arange(len(names))    \n",
    "ax.bar(ticks, photo_mean, width, label='Photo')\n",
    "ax.bar(ticks + width, video_mean, width, align=\"center\",label='Video')\n",
    "\n",
    "ax.set_ylabel('Mean')\n",
    "ax.set_title('Photo Tweets vs Video Tweets')\n",
    "ax.set_xticks(ticks + width/2)\n",
    "ax.set_xticklabels(names)\n",
    "\n",
    "ax.legend(loc='best')\n",
    "plt.show()"
   ]
  },
  {
   "cell_type": "code",
   "execution_count": 887,
   "metadata": {
    "scrolled": false
   },
   "outputs": [
    {
     "data": {
      "image/png": "[encoded data removed]",
      "text/plain": [
       "<Figure size 900x750 with 1 Axes>"
      ]
     },
     "metadata": {
      "needs_background": "light"
     },
     "output_type": "display_data"
    }
   ],
   "source": [
    "# mean photo Rating Numerator Rating Denominator\n",
    "photo_mean = twitter_photo[['rating_numerator','rating_denominator']].mean()\n",
    "\n",
    "# mean video Rating Numerator Rating Denominator\n",
    "video_mean = twitter_video[['rating_numerator','rating_denominator']].mean()\n",
    "names = ['Rating Numerator','Rating Denominator']\n",
    "\n",
    "fig = plt.figure(figsize=(6,5), dpi=150)\n",
    "left, bottom, width, height = 0.1, 0.3, 0.8, 0.6\n",
    "ax = fig.add_axes([left, bottom, width, height]) \n",
    " \n",
    "width = 0.35   \n",
    "ticks = np.arange(len(names))    \n",
    "ax.bar(ticks, photo_mean, width, label='Photo')\n",
    "ax.bar(ticks + width, video_mean, width, align=\"center\",label='Video')\n",
    "\n",
    "ax.set_ylabel('Mean')\n",
    "ax.set_title('Photo Tweets vs Video Tweets')\n",
    "ax.set_xticks(ticks + width/2)\n",
    "ax.set_xticklabels(names)\n",
    "\n",
    "ax.legend(loc='best')\n",
    "plt.show()"
   ]
  }
 ],
 "metadata": {
  "extensions": {
   "jupyter_dashboards": {
    "activeView": "report_default",
    "version": 1,
    "views": {
     "grid_default": {
      "cellMargin": 10,
      "defaultCellHeight": 20,
      "maxColumns": 12,
      "name": "grid",
      "type": "grid"
     },
     "report_default": {
      "name": "report",
      "type": "report"
     }
    }
   }
  },
  "kernelspec": {
   "display_name": "Python 3 (ipykernel)",
   "language": "python",
   "name": "python3"
  },
  "language_info": {
   "codemirror_mode": {
    "name": "ipython",
    "version": 3
   },
   "file_extension": ".py",
   "mimetype": "text/x-python",
   "name": "python",
   "nbconvert_exporter": "python",
   "pygments_lexer": "ipython3",
   "version": "3.9.12"
  }
 },
 "nbformat": 4,
 "nbformat_minor": 2
}
