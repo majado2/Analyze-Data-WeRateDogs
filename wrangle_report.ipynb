{
 "cells": [
  {
   "cell_type": "markdown",
   "id": "0d7b4677",
   "metadata": {},
   "source": [
    "## Reporting: wragle_report\n"
   ]
  },
  {
   "cell_type": "markdown",
   "id": "341c8a8e",
   "metadata": {},
   "source": [
    "#### Hello\n",
    "It started with three tables, the first for tweet information, the second for the machine's analysis of dog photos, and the third for total likes and retweets.\n",
    "\n",
    "\n",
    "You clean the data and group it together\n",
    "In view of the available data, we find a lot of loss and inaccuracy. It is really difficult to give judgments based on the types of dogs or the rate of dogs, and this is what took me to another direction, which is the interaction of users with the type of tweet, and what is the most interaction, is it likes or retweets, and indeed I find that likes are more than retweets Also, it appears to me through the results that the tweets that contain a video have more interaction than the tweets that have pictures only\n",
    "\n",
    "\n",
    ">Notes\n",
    "We took a sample of the image analysis by machine learning and unfortunately 3 different and incorrect possibilities\n",
    "We also took a sample of the negative possibilities, and indeed a picture of a dog appeared\n",
    "For these reasons, machine learning may not have sufficient accuracy to identify the dog species\n",
    "I checked the names of the dogs, and they do not necessarily mean the type of dog, just names that were named by the owners of the dogs\n",
    "We cannot judge the data provided to us by the most popular or most rated dogs, which is one of the reasons for the research\n",
    "\n",
    "\n",
    ">Conclusion\n",
    "The average engagement with tweets that contain videos is more than the average for tweets that contain images only"
   ]
  }
 ],
 "metadata": {
  "kernelspec": {
   "display_name": "Python 3 (ipykernel)",
   "language": "python",
   "name": "python3"
  },
  "language_info": {
   "codemirror_mode": {
    "name": "ipython",
    "version": 3
   },
   "file_extension": ".py",
   "mimetype": "text/x-python",
   "name": "python",
   "nbconvert_exporter": "python",
   "pygments_lexer": "ipython3",
   "version": "3.9.12"
  }
 },
 "nbformat": 4,
 "nbformat_minor": 5
}
